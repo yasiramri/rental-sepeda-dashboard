{
 "cells": [
  {
   "cell_type": "markdown",
   "metadata": {
    "id": "H9wADwK78DCz"
   },
   "source": [
    "# Proyek Analisis Data: [Input Nama Dataset]\n",
    "- **Nama:** Muhammad Yasir Amri\n",
    "- **Email:** yasiramrr@hotmail.com\n",
    "- **ID Dicoding:** yasiramrr"
   ]
  },
  {
   "cell_type": "markdown",
   "metadata": {
    "id": "eE0raob58DC0"
   },
   "source": [
    "## Menentukan Pertanyaan Bisnis"
   ]
  },
  {
   "cell_type": "markdown",
   "metadata": {
    "id": "GmQeQ5YF8DC0"
   },
   "source": [
    "- Bagaimana pola penggunaan sepeda sepanjang tahun, apakah tahun 2011 atau 2012 yang lebih dominan?\n",
    "- Pertanyaan 2: Apakah terdapat dampak musim terhadap jumlah penyewa sepeda, baik dari kalangan Casual maupun Registered?\n",
    "- Pertanyaan 3: Apakah cuaca memiliki dampak terhadap jumlah pengguna sepeda?\n",
    "- Pertanyaan 4: Bagaimana kondisi ketika sepeda digunakan pada workingday, holiday, dan weekday?\n",
    "- Pertanyaan 5: Bagaimana variabel seperti temp dan atemp serta humidity bisa berpengaruh terhadap jumlah total pengguna sepeda Casual ataupun Registered)"
   ]
  },
  {
   "cell_type": "markdown",
   "metadata": {
    "id": "H-z4QGlO8DC1"
   },
   "source": [
    "## Import Semua Packages/Library yang Digunakan"
   ]
  },
  {
   "cell_type": "code",
   "execution_count": 3,
   "metadata": {
    "id": "FVYwaObI8DC1"
   },
   "outputs": [],
   "source": [
    "import numpy as np\n",
    "import pandas as pd\n",
    "import matplotlib.pyplot as plt\n",
    "import seaborn as sns"
   ]
  },
  {
   "cell_type": "markdown",
   "metadata": {
    "id": "h_Sh51Xy8DC1"
   },
   "source": [
    "## Data Wrangling"
   ]
  },
  {
   "cell_type": "markdown",
   "metadata": {
    "id": "sXU2GBYu8DC1"
   },
   "source": [
    "### Gathering Data"
   ]
  },
  {
   "cell_type": "markdown",
   "metadata": {},
   "source": [
    "## Load Tabel Day"
   ]
  },
  {
   "cell_type": "code",
   "execution_count": 4,
   "metadata": {
    "id": "zjCBk1BI8DC1"
   },
   "outputs": [
    {
     "data": {
      "text/html": [
       "<div>\n",
       "<style scoped>\n",
       "    .dataframe tbody tr th:only-of-type {\n",
       "        vertical-align: middle;\n",
       "    }\n",
       "\n",
       "    .dataframe tbody tr th {\n",
       "        vertical-align: top;\n",
       "    }\n",
       "\n",
       "    .dataframe thead th {\n",
       "        text-align: right;\n",
       "    }\n",
       "</style>\n",
       "<table border=\"1\" class=\"dataframe\">\n",
       "  <thead>\n",
       "    <tr style=\"text-align: right;\">\n",
       "      <th></th>\n",
       "      <th>instant</th>\n",
       "      <th>dteday</th>\n",
       "      <th>season</th>\n",
       "      <th>yr</th>\n",
       "      <th>mnth</th>\n",
       "      <th>holiday</th>\n",
       "      <th>weekday</th>\n",
       "      <th>workingday</th>\n",
       "      <th>weathersit</th>\n",
       "      <th>temp</th>\n",
       "      <th>atemp</th>\n",
       "      <th>hum</th>\n",
       "      <th>windspeed</th>\n",
       "      <th>casual</th>\n",
       "      <th>registered</th>\n",
       "      <th>cnt</th>\n",
       "    </tr>\n",
       "  </thead>\n",
       "  <tbody>\n",
       "    <tr>\n",
       "      <th>0</th>\n",
       "      <td>1</td>\n",
       "      <td>2011-01-01</td>\n",
       "      <td>1</td>\n",
       "      <td>0</td>\n",
       "      <td>1</td>\n",
       "      <td>0</td>\n",
       "      <td>6</td>\n",
       "      <td>0</td>\n",
       "      <td>2</td>\n",
       "      <td>0.344167</td>\n",
       "      <td>0.363625</td>\n",
       "      <td>0.805833</td>\n",
       "      <td>0.160446</td>\n",
       "      <td>331</td>\n",
       "      <td>654</td>\n",
       "      <td>985</td>\n",
       "    </tr>\n",
       "    <tr>\n",
       "      <th>1</th>\n",
       "      <td>2</td>\n",
       "      <td>2011-01-02</td>\n",
       "      <td>1</td>\n",
       "      <td>0</td>\n",
       "      <td>1</td>\n",
       "      <td>0</td>\n",
       "      <td>0</td>\n",
       "      <td>0</td>\n",
       "      <td>2</td>\n",
       "      <td>0.363478</td>\n",
       "      <td>0.353739</td>\n",
       "      <td>0.696087</td>\n",
       "      <td>0.248539</td>\n",
       "      <td>131</td>\n",
       "      <td>670</td>\n",
       "      <td>801</td>\n",
       "    </tr>\n",
       "    <tr>\n",
       "      <th>2</th>\n",
       "      <td>3</td>\n",
       "      <td>2011-01-03</td>\n",
       "      <td>1</td>\n",
       "      <td>0</td>\n",
       "      <td>1</td>\n",
       "      <td>0</td>\n",
       "      <td>1</td>\n",
       "      <td>1</td>\n",
       "      <td>1</td>\n",
       "      <td>0.196364</td>\n",
       "      <td>0.189405</td>\n",
       "      <td>0.437273</td>\n",
       "      <td>0.248309</td>\n",
       "      <td>120</td>\n",
       "      <td>1229</td>\n",
       "      <td>1349</td>\n",
       "    </tr>\n",
       "    <tr>\n",
       "      <th>3</th>\n",
       "      <td>4</td>\n",
       "      <td>2011-01-04</td>\n",
       "      <td>1</td>\n",
       "      <td>0</td>\n",
       "      <td>1</td>\n",
       "      <td>0</td>\n",
       "      <td>2</td>\n",
       "      <td>1</td>\n",
       "      <td>1</td>\n",
       "      <td>0.200000</td>\n",
       "      <td>0.212122</td>\n",
       "      <td>0.590435</td>\n",
       "      <td>0.160296</td>\n",
       "      <td>108</td>\n",
       "      <td>1454</td>\n",
       "      <td>1562</td>\n",
       "    </tr>\n",
       "    <tr>\n",
       "      <th>4</th>\n",
       "      <td>5</td>\n",
       "      <td>2011-01-05</td>\n",
       "      <td>1</td>\n",
       "      <td>0</td>\n",
       "      <td>1</td>\n",
       "      <td>0</td>\n",
       "      <td>3</td>\n",
       "      <td>1</td>\n",
       "      <td>1</td>\n",
       "      <td>0.226957</td>\n",
       "      <td>0.229270</td>\n",
       "      <td>0.436957</td>\n",
       "      <td>0.186900</td>\n",
       "      <td>82</td>\n",
       "      <td>1518</td>\n",
       "      <td>1600</td>\n",
       "    </tr>\n",
       "  </tbody>\n",
       "</table>\n",
       "</div>"
      ],
      "text/plain": [
       "   instant      dteday  season  yr  mnth  holiday  weekday  workingday  \\\n",
       "0        1  2011-01-01       1   0     1        0        6           0   \n",
       "1        2  2011-01-02       1   0     1        0        0           0   \n",
       "2        3  2011-01-03       1   0     1        0        1           1   \n",
       "3        4  2011-01-04       1   0     1        0        2           1   \n",
       "4        5  2011-01-05       1   0     1        0        3           1   \n",
       "\n",
       "   weathersit      temp     atemp       hum  windspeed  casual  registered  \\\n",
       "0           2  0.344167  0.363625  0.805833   0.160446     331         654   \n",
       "1           2  0.363478  0.353739  0.696087   0.248539     131         670   \n",
       "2           1  0.196364  0.189405  0.437273   0.248309     120        1229   \n",
       "3           1  0.200000  0.212122  0.590435   0.160296     108        1454   \n",
       "4           1  0.226957  0.229270  0.436957   0.186900      82        1518   \n",
       "\n",
       "    cnt  \n",
       "0   985  \n",
       "1   801  \n",
       "2  1349  \n",
       "3  1562  \n",
       "4  1600  "
      ]
     },
     "execution_count": 4,
     "metadata": {},
     "output_type": "execute_result"
    }
   ],
   "source": [
    "day_df = pd.read_csv(\"./data/day.csv\")\n",
    "day_df.head()"
   ]
  },
  {
   "cell_type": "markdown",
   "metadata": {},
   "source": [
    "## Load Tabel Hour"
   ]
  },
  {
   "cell_type": "code",
   "execution_count": 5,
   "metadata": {},
   "outputs": [
    {
     "name": "stdout",
     "output_type": "stream",
     "text": [
      "<class 'pandas.core.frame.DataFrame'>\n",
      "RangeIndex: 17379 entries, 0 to 17378\n",
      "Data columns (total 17 columns):\n",
      " #   Column      Non-Null Count  Dtype  \n",
      "---  ------      --------------  -----  \n",
      " 0   instant     17379 non-null  int64  \n",
      " 1   dteday      17379 non-null  object \n",
      " 2   season      17379 non-null  int64  \n",
      " 3   yr          17379 non-null  int64  \n",
      " 4   mnth        17379 non-null  int64  \n",
      " 5   hr          17379 non-null  int64  \n",
      " 6   holiday     17379 non-null  int64  \n",
      " 7   weekday     17379 non-null  int64  \n",
      " 8   workingday  17379 non-null  int64  \n",
      " 9   weathersit  17379 non-null  int64  \n",
      " 10  temp        17379 non-null  float64\n",
      " 11  atemp       17379 non-null  float64\n",
      " 12  hum         17379 non-null  float64\n",
      " 13  windspeed   17379 non-null  float64\n",
      " 14  casual      17379 non-null  int64  \n",
      " 15  registered  17379 non-null  int64  \n",
      " 16  cnt         17379 non-null  int64  \n",
      "dtypes: float64(4), int64(12), object(1)\n",
      "memory usage: 2.3+ MB\n"
     ]
    }
   ],
   "source": [
    "hour_df = pd.read_csv(\"./data/hour.csv\")\n",
    "hour_df.info()"
   ]
  },
  {
   "cell_type": "markdown",
   "metadata": {
    "id": "FHSiqaZp8DC1"
   },
   "source": [
    "### Assessing Data"
   ]
  },
  {
   "cell_type": "markdown",
   "metadata": {},
   "source": [
    "## Menilai Data day_df"
   ]
  },
  {
   "cell_type": "markdown",
   "metadata": {},
   "source": [
    "a. melihat tipe data day_df"
   ]
  },
  {
   "cell_type": "code",
   "execution_count": 6,
   "metadata": {
    "id": "ax-3tEjc9Cj1"
   },
   "outputs": [
    {
     "name": "stdout",
     "output_type": "stream",
     "text": [
      "<class 'pandas.core.frame.DataFrame'>\n",
      "RangeIndex: 731 entries, 0 to 730\n",
      "Data columns (total 16 columns):\n",
      " #   Column      Non-Null Count  Dtype  \n",
      "---  ------      --------------  -----  \n",
      " 0   instant     731 non-null    int64  \n",
      " 1   dteday      731 non-null    object \n",
      " 2   season      731 non-null    int64  \n",
      " 3   yr          731 non-null    int64  \n",
      " 4   mnth        731 non-null    int64  \n",
      " 5   holiday     731 non-null    int64  \n",
      " 6   weekday     731 non-null    int64  \n",
      " 7   workingday  731 non-null    int64  \n",
      " 8   weathersit  731 non-null    int64  \n",
      " 9   temp        731 non-null    float64\n",
      " 10  atemp       731 non-null    float64\n",
      " 11  hum         731 non-null    float64\n",
      " 12  windspeed   731 non-null    float64\n",
      " 13  casual      731 non-null    int64  \n",
      " 14  registered  731 non-null    int64  \n",
      " 15  cnt         731 non-null    int64  \n",
      "dtypes: float64(4), int64(11), object(1)\n",
      "memory usage: 91.5+ KB\n"
     ]
    }
   ],
   "source": [
    "day_df.info()"
   ]
  },
  {
   "cell_type": "markdown",
   "metadata": {},
   "source": [
    "Dari sini dapat kita lihat, dteday perlu diperbaiki tipe datanya karena tidak sesuai yaitu dari tipe data object menjadi tipe data datetime"
   ]
  },
  {
   "cell_type": "markdown",
   "metadata": {},
   "source": [
    "b. Mencari missing values pada data day_df"
   ]
  },
  {
   "cell_type": "code",
   "execution_count": 7,
   "metadata": {},
   "outputs": [
    {
     "data": {
      "text/plain": [
       "instant       0\n",
       "dteday        0\n",
       "season        0\n",
       "yr            0\n",
       "mnth          0\n",
       "holiday       0\n",
       "weekday       0\n",
       "workingday    0\n",
       "weathersit    0\n",
       "temp          0\n",
       "atemp         0\n",
       "hum           0\n",
       "windspeed     0\n",
       "casual        0\n",
       "registered    0\n",
       "cnt           0\n",
       "dtype: int64"
      ]
     },
     "execution_count": 7,
     "metadata": {},
     "output_type": "execute_result"
    }
   ],
   "source": [
    "day_df.isna().sum()"
   ]
  },
  {
   "cell_type": "markdown",
   "metadata": {},
   "source": [
    "day_df tidak memiliki missing values"
   ]
  },
  {
   "cell_type": "markdown",
   "metadata": {},
   "source": [
    "c. mencari duplikasi data pada data day_df"
   ]
  },
  {
   "cell_type": "code",
   "execution_count": 8,
   "metadata": {},
   "outputs": [
    {
     "name": "stdout",
     "output_type": "stream",
     "text": [
      "Jumlah duplikasi:  0\n"
     ]
    }
   ],
   "source": [
    "print(\"Jumlah duplikasi: \", day_df.duplicated().sum())"
   ]
  },
  {
   "cell_type": "markdown",
   "metadata": {},
   "source": [
    "tidak terdapat duplikasi data"
   ]
  },
  {
   "cell_type": "markdown",
   "metadata": {},
   "source": [
    "d. Memeriksa nilai statistik pada data day_df"
   ]
  },
  {
   "cell_type": "code",
   "execution_count": 9,
   "metadata": {},
   "outputs": [
    {
     "data": {
      "text/html": [
       "<div>\n",
       "<style scoped>\n",
       "    .dataframe tbody tr th:only-of-type {\n",
       "        vertical-align: middle;\n",
       "    }\n",
       "\n",
       "    .dataframe tbody tr th {\n",
       "        vertical-align: top;\n",
       "    }\n",
       "\n",
       "    .dataframe thead th {\n",
       "        text-align: right;\n",
       "    }\n",
       "</style>\n",
       "<table border=\"1\" class=\"dataframe\">\n",
       "  <thead>\n",
       "    <tr style=\"text-align: right;\">\n",
       "      <th></th>\n",
       "      <th>instant</th>\n",
       "      <th>season</th>\n",
       "      <th>yr</th>\n",
       "      <th>mnth</th>\n",
       "      <th>holiday</th>\n",
       "      <th>weekday</th>\n",
       "      <th>workingday</th>\n",
       "      <th>weathersit</th>\n",
       "      <th>temp</th>\n",
       "      <th>atemp</th>\n",
       "      <th>hum</th>\n",
       "      <th>windspeed</th>\n",
       "      <th>casual</th>\n",
       "      <th>registered</th>\n",
       "      <th>cnt</th>\n",
       "    </tr>\n",
       "  </thead>\n",
       "  <tbody>\n",
       "    <tr>\n",
       "      <th>count</th>\n",
       "      <td>731.000000</td>\n",
       "      <td>731.000000</td>\n",
       "      <td>731.000000</td>\n",
       "      <td>731.000000</td>\n",
       "      <td>731.000000</td>\n",
       "      <td>731.000000</td>\n",
       "      <td>731.000000</td>\n",
       "      <td>731.000000</td>\n",
       "      <td>731.000000</td>\n",
       "      <td>731.000000</td>\n",
       "      <td>731.000000</td>\n",
       "      <td>731.000000</td>\n",
       "      <td>731.000000</td>\n",
       "      <td>731.000000</td>\n",
       "      <td>731.000000</td>\n",
       "    </tr>\n",
       "    <tr>\n",
       "      <th>mean</th>\n",
       "      <td>366.000000</td>\n",
       "      <td>2.496580</td>\n",
       "      <td>0.500684</td>\n",
       "      <td>6.519836</td>\n",
       "      <td>0.028728</td>\n",
       "      <td>2.997264</td>\n",
       "      <td>0.683995</td>\n",
       "      <td>1.395349</td>\n",
       "      <td>0.495385</td>\n",
       "      <td>0.474354</td>\n",
       "      <td>0.627894</td>\n",
       "      <td>0.190486</td>\n",
       "      <td>848.176471</td>\n",
       "      <td>3656.172367</td>\n",
       "      <td>4504.348837</td>\n",
       "    </tr>\n",
       "    <tr>\n",
       "      <th>std</th>\n",
       "      <td>211.165812</td>\n",
       "      <td>1.110807</td>\n",
       "      <td>0.500342</td>\n",
       "      <td>3.451913</td>\n",
       "      <td>0.167155</td>\n",
       "      <td>2.004787</td>\n",
       "      <td>0.465233</td>\n",
       "      <td>0.544894</td>\n",
       "      <td>0.183051</td>\n",
       "      <td>0.162961</td>\n",
       "      <td>0.142429</td>\n",
       "      <td>0.077498</td>\n",
       "      <td>686.622488</td>\n",
       "      <td>1560.256377</td>\n",
       "      <td>1937.211452</td>\n",
       "    </tr>\n",
       "    <tr>\n",
       "      <th>min</th>\n",
       "      <td>1.000000</td>\n",
       "      <td>1.000000</td>\n",
       "      <td>0.000000</td>\n",
       "      <td>1.000000</td>\n",
       "      <td>0.000000</td>\n",
       "      <td>0.000000</td>\n",
       "      <td>0.000000</td>\n",
       "      <td>1.000000</td>\n",
       "      <td>0.059130</td>\n",
       "      <td>0.079070</td>\n",
       "      <td>0.000000</td>\n",
       "      <td>0.022392</td>\n",
       "      <td>2.000000</td>\n",
       "      <td>20.000000</td>\n",
       "      <td>22.000000</td>\n",
       "    </tr>\n",
       "    <tr>\n",
       "      <th>25%</th>\n",
       "      <td>183.500000</td>\n",
       "      <td>2.000000</td>\n",
       "      <td>0.000000</td>\n",
       "      <td>4.000000</td>\n",
       "      <td>0.000000</td>\n",
       "      <td>1.000000</td>\n",
       "      <td>0.000000</td>\n",
       "      <td>1.000000</td>\n",
       "      <td>0.337083</td>\n",
       "      <td>0.337842</td>\n",
       "      <td>0.520000</td>\n",
       "      <td>0.134950</td>\n",
       "      <td>315.500000</td>\n",
       "      <td>2497.000000</td>\n",
       "      <td>3152.000000</td>\n",
       "    </tr>\n",
       "    <tr>\n",
       "      <th>50%</th>\n",
       "      <td>366.000000</td>\n",
       "      <td>3.000000</td>\n",
       "      <td>1.000000</td>\n",
       "      <td>7.000000</td>\n",
       "      <td>0.000000</td>\n",
       "      <td>3.000000</td>\n",
       "      <td>1.000000</td>\n",
       "      <td>1.000000</td>\n",
       "      <td>0.498333</td>\n",
       "      <td>0.486733</td>\n",
       "      <td>0.626667</td>\n",
       "      <td>0.180975</td>\n",
       "      <td>713.000000</td>\n",
       "      <td>3662.000000</td>\n",
       "      <td>4548.000000</td>\n",
       "    </tr>\n",
       "    <tr>\n",
       "      <th>75%</th>\n",
       "      <td>548.500000</td>\n",
       "      <td>3.000000</td>\n",
       "      <td>1.000000</td>\n",
       "      <td>10.000000</td>\n",
       "      <td>0.000000</td>\n",
       "      <td>5.000000</td>\n",
       "      <td>1.000000</td>\n",
       "      <td>2.000000</td>\n",
       "      <td>0.655417</td>\n",
       "      <td>0.608602</td>\n",
       "      <td>0.730209</td>\n",
       "      <td>0.233214</td>\n",
       "      <td>1096.000000</td>\n",
       "      <td>4776.500000</td>\n",
       "      <td>5956.000000</td>\n",
       "    </tr>\n",
       "    <tr>\n",
       "      <th>max</th>\n",
       "      <td>731.000000</td>\n",
       "      <td>4.000000</td>\n",
       "      <td>1.000000</td>\n",
       "      <td>12.000000</td>\n",
       "      <td>1.000000</td>\n",
       "      <td>6.000000</td>\n",
       "      <td>1.000000</td>\n",
       "      <td>3.000000</td>\n",
       "      <td>0.861667</td>\n",
       "      <td>0.840896</td>\n",
       "      <td>0.972500</td>\n",
       "      <td>0.507463</td>\n",
       "      <td>3410.000000</td>\n",
       "      <td>6946.000000</td>\n",
       "      <td>8714.000000</td>\n",
       "    </tr>\n",
       "  </tbody>\n",
       "</table>\n",
       "</div>"
      ],
      "text/plain": [
       "          instant      season          yr        mnth     holiday     weekday  \\\n",
       "count  731.000000  731.000000  731.000000  731.000000  731.000000  731.000000   \n",
       "mean   366.000000    2.496580    0.500684    6.519836    0.028728    2.997264   \n",
       "std    211.165812    1.110807    0.500342    3.451913    0.167155    2.004787   \n",
       "min      1.000000    1.000000    0.000000    1.000000    0.000000    0.000000   \n",
       "25%    183.500000    2.000000    0.000000    4.000000    0.000000    1.000000   \n",
       "50%    366.000000    3.000000    1.000000    7.000000    0.000000    3.000000   \n",
       "75%    548.500000    3.000000    1.000000   10.000000    0.000000    5.000000   \n",
       "max    731.000000    4.000000    1.000000   12.000000    1.000000    6.000000   \n",
       "\n",
       "       workingday  weathersit        temp       atemp         hum   windspeed  \\\n",
       "count  731.000000  731.000000  731.000000  731.000000  731.000000  731.000000   \n",
       "mean     0.683995    1.395349    0.495385    0.474354    0.627894    0.190486   \n",
       "std      0.465233    0.544894    0.183051    0.162961    0.142429    0.077498   \n",
       "min      0.000000    1.000000    0.059130    0.079070    0.000000    0.022392   \n",
       "25%      0.000000    1.000000    0.337083    0.337842    0.520000    0.134950   \n",
       "50%      1.000000    1.000000    0.498333    0.486733    0.626667    0.180975   \n",
       "75%      1.000000    2.000000    0.655417    0.608602    0.730209    0.233214   \n",
       "max      1.000000    3.000000    0.861667    0.840896    0.972500    0.507463   \n",
       "\n",
       "            casual   registered          cnt  \n",
       "count   731.000000   731.000000   731.000000  \n",
       "mean    848.176471  3656.172367  4504.348837  \n",
       "std     686.622488  1560.256377  1937.211452  \n",
       "min       2.000000    20.000000    22.000000  \n",
       "25%     315.500000  2497.000000  3152.000000  \n",
       "50%     713.000000  3662.000000  4548.000000  \n",
       "75%    1096.000000  4776.500000  5956.000000  \n",
       "max    3410.000000  6946.000000  8714.000000  "
      ]
     },
     "execution_count": 9,
     "metadata": {},
     "output_type": "execute_result"
    }
   ],
   "source": [
    "day_df.describe()"
   ]
  },
  {
   "cell_type": "markdown",
   "metadata": {},
   "source": [
    "tidak terdapat keanehan pada nilai statistik pada data day_df"
   ]
  },
  {
   "cell_type": "markdown",
   "metadata": {},
   "source": [
    "## Menilai Data hour_df"
   ]
  },
  {
   "cell_type": "markdown",
   "metadata": {},
   "source": [
    "a. melihat tipe data hour_df"
   ]
  },
  {
   "cell_type": "code",
   "execution_count": 10,
   "metadata": {},
   "outputs": [
    {
     "name": "stdout",
     "output_type": "stream",
     "text": [
      "<class 'pandas.core.frame.DataFrame'>\n",
      "RangeIndex: 17379 entries, 0 to 17378\n",
      "Data columns (total 17 columns):\n",
      " #   Column      Non-Null Count  Dtype  \n",
      "---  ------      --------------  -----  \n",
      " 0   instant     17379 non-null  int64  \n",
      " 1   dteday      17379 non-null  object \n",
      " 2   season      17379 non-null  int64  \n",
      " 3   yr          17379 non-null  int64  \n",
      " 4   mnth        17379 non-null  int64  \n",
      " 5   hr          17379 non-null  int64  \n",
      " 6   holiday     17379 non-null  int64  \n",
      " 7   weekday     17379 non-null  int64  \n",
      " 8   workingday  17379 non-null  int64  \n",
      " 9   weathersit  17379 non-null  int64  \n",
      " 10  temp        17379 non-null  float64\n",
      " 11  atemp       17379 non-null  float64\n",
      " 12  hum         17379 non-null  float64\n",
      " 13  windspeed   17379 non-null  float64\n",
      " 14  casual      17379 non-null  int64  \n",
      " 15  registered  17379 non-null  int64  \n",
      " 16  cnt         17379 non-null  int64  \n",
      "dtypes: float64(4), int64(12), object(1)\n",
      "memory usage: 2.3+ MB\n"
     ]
    }
   ],
   "source": [
    "hour_df.info()"
   ]
  },
  {
   "cell_type": "markdown",
   "metadata": {},
   "source": [
    "Dari sini dapat kita lihat, dteday perlu diperbaiki tipe datanya karena tidak sesuai yaitu dari tipe data object menjadi tipe data datetime"
   ]
  },
  {
   "cell_type": "markdown",
   "metadata": {},
   "source": [
    "b. mencari missing value pada data hour_df"
   ]
  },
  {
   "cell_type": "code",
   "execution_count": 11,
   "metadata": {},
   "outputs": [
    {
     "data": {
      "text/plain": [
       "instant       0\n",
       "dteday        0\n",
       "season        0\n",
       "yr            0\n",
       "mnth          0\n",
       "hr            0\n",
       "holiday       0\n",
       "weekday       0\n",
       "workingday    0\n",
       "weathersit    0\n",
       "temp          0\n",
       "atemp         0\n",
       "hum           0\n",
       "windspeed     0\n",
       "casual        0\n",
       "registered    0\n",
       "cnt           0\n",
       "dtype: int64"
      ]
     },
     "execution_count": 11,
     "metadata": {},
     "output_type": "execute_result"
    }
   ],
   "source": [
    "hour_df.isna().sum()"
   ]
  },
  {
   "cell_type": "markdown",
   "metadata": {},
   "source": [
    "tidak terdapat missing values"
   ]
  },
  {
   "cell_type": "markdown",
   "metadata": {},
   "source": [
    "c. mencari duplikasi data hour_df"
   ]
  },
  {
   "cell_type": "code",
   "execution_count": 12,
   "metadata": {},
   "outputs": [
    {
     "name": "stdout",
     "output_type": "stream",
     "text": [
      "Jumlah duplikasi:  0\n"
     ]
    }
   ],
   "source": [
    "print(\"Jumlah duplikasi: \", hour_df.duplicated().sum())"
   ]
  },
  {
   "cell_type": "markdown",
   "metadata": {},
   "source": [
    "tidak terdapat duplikasi data pada hour_df"
   ]
  },
  {
   "cell_type": "markdown",
   "metadata": {},
   "source": [
    "d. Memeriksa nilai statistik pada data hour_df"
   ]
  },
  {
   "cell_type": "code",
   "execution_count": 13,
   "metadata": {},
   "outputs": [
    {
     "data": {
      "text/html": [
       "<div>\n",
       "<style scoped>\n",
       "    .dataframe tbody tr th:only-of-type {\n",
       "        vertical-align: middle;\n",
       "    }\n",
       "\n",
       "    .dataframe tbody tr th {\n",
       "        vertical-align: top;\n",
       "    }\n",
       "\n",
       "    .dataframe thead th {\n",
       "        text-align: right;\n",
       "    }\n",
       "</style>\n",
       "<table border=\"1\" class=\"dataframe\">\n",
       "  <thead>\n",
       "    <tr style=\"text-align: right;\">\n",
       "      <th></th>\n",
       "      <th>instant</th>\n",
       "      <th>season</th>\n",
       "      <th>yr</th>\n",
       "      <th>mnth</th>\n",
       "      <th>hr</th>\n",
       "      <th>holiday</th>\n",
       "      <th>weekday</th>\n",
       "      <th>workingday</th>\n",
       "      <th>weathersit</th>\n",
       "      <th>temp</th>\n",
       "      <th>atemp</th>\n",
       "      <th>hum</th>\n",
       "      <th>windspeed</th>\n",
       "      <th>casual</th>\n",
       "      <th>registered</th>\n",
       "      <th>cnt</th>\n",
       "    </tr>\n",
       "  </thead>\n",
       "  <tbody>\n",
       "    <tr>\n",
       "      <th>count</th>\n",
       "      <td>17379.0000</td>\n",
       "      <td>17379.000000</td>\n",
       "      <td>17379.000000</td>\n",
       "      <td>17379.000000</td>\n",
       "      <td>17379.000000</td>\n",
       "      <td>17379.000000</td>\n",
       "      <td>17379.000000</td>\n",
       "      <td>17379.000000</td>\n",
       "      <td>17379.000000</td>\n",
       "      <td>17379.000000</td>\n",
       "      <td>17379.000000</td>\n",
       "      <td>17379.000000</td>\n",
       "      <td>17379.000000</td>\n",
       "      <td>17379.000000</td>\n",
       "      <td>17379.000000</td>\n",
       "      <td>17379.000000</td>\n",
       "    </tr>\n",
       "    <tr>\n",
       "      <th>mean</th>\n",
       "      <td>8690.0000</td>\n",
       "      <td>2.501640</td>\n",
       "      <td>0.502561</td>\n",
       "      <td>6.537775</td>\n",
       "      <td>11.546752</td>\n",
       "      <td>0.028770</td>\n",
       "      <td>3.003683</td>\n",
       "      <td>0.682721</td>\n",
       "      <td>1.425283</td>\n",
       "      <td>0.496987</td>\n",
       "      <td>0.475775</td>\n",
       "      <td>0.627229</td>\n",
       "      <td>0.190098</td>\n",
       "      <td>35.676218</td>\n",
       "      <td>153.786869</td>\n",
       "      <td>189.463088</td>\n",
       "    </tr>\n",
       "    <tr>\n",
       "      <th>std</th>\n",
       "      <td>5017.0295</td>\n",
       "      <td>1.106918</td>\n",
       "      <td>0.500008</td>\n",
       "      <td>3.438776</td>\n",
       "      <td>6.914405</td>\n",
       "      <td>0.167165</td>\n",
       "      <td>2.005771</td>\n",
       "      <td>0.465431</td>\n",
       "      <td>0.639357</td>\n",
       "      <td>0.192556</td>\n",
       "      <td>0.171850</td>\n",
       "      <td>0.192930</td>\n",
       "      <td>0.122340</td>\n",
       "      <td>49.305030</td>\n",
       "      <td>151.357286</td>\n",
       "      <td>181.387599</td>\n",
       "    </tr>\n",
       "    <tr>\n",
       "      <th>min</th>\n",
       "      <td>1.0000</td>\n",
       "      <td>1.000000</td>\n",
       "      <td>0.000000</td>\n",
       "      <td>1.000000</td>\n",
       "      <td>0.000000</td>\n",
       "      <td>0.000000</td>\n",
       "      <td>0.000000</td>\n",
       "      <td>0.000000</td>\n",
       "      <td>1.000000</td>\n",
       "      <td>0.020000</td>\n",
       "      <td>0.000000</td>\n",
       "      <td>0.000000</td>\n",
       "      <td>0.000000</td>\n",
       "      <td>0.000000</td>\n",
       "      <td>0.000000</td>\n",
       "      <td>1.000000</td>\n",
       "    </tr>\n",
       "    <tr>\n",
       "      <th>25%</th>\n",
       "      <td>4345.5000</td>\n",
       "      <td>2.000000</td>\n",
       "      <td>0.000000</td>\n",
       "      <td>4.000000</td>\n",
       "      <td>6.000000</td>\n",
       "      <td>0.000000</td>\n",
       "      <td>1.000000</td>\n",
       "      <td>0.000000</td>\n",
       "      <td>1.000000</td>\n",
       "      <td>0.340000</td>\n",
       "      <td>0.333300</td>\n",
       "      <td>0.480000</td>\n",
       "      <td>0.104500</td>\n",
       "      <td>4.000000</td>\n",
       "      <td>34.000000</td>\n",
       "      <td>40.000000</td>\n",
       "    </tr>\n",
       "    <tr>\n",
       "      <th>50%</th>\n",
       "      <td>8690.0000</td>\n",
       "      <td>3.000000</td>\n",
       "      <td>1.000000</td>\n",
       "      <td>7.000000</td>\n",
       "      <td>12.000000</td>\n",
       "      <td>0.000000</td>\n",
       "      <td>3.000000</td>\n",
       "      <td>1.000000</td>\n",
       "      <td>1.000000</td>\n",
       "      <td>0.500000</td>\n",
       "      <td>0.484800</td>\n",
       "      <td>0.630000</td>\n",
       "      <td>0.194000</td>\n",
       "      <td>17.000000</td>\n",
       "      <td>115.000000</td>\n",
       "      <td>142.000000</td>\n",
       "    </tr>\n",
       "    <tr>\n",
       "      <th>75%</th>\n",
       "      <td>13034.5000</td>\n",
       "      <td>3.000000</td>\n",
       "      <td>1.000000</td>\n",
       "      <td>10.000000</td>\n",
       "      <td>18.000000</td>\n",
       "      <td>0.000000</td>\n",
       "      <td>5.000000</td>\n",
       "      <td>1.000000</td>\n",
       "      <td>2.000000</td>\n",
       "      <td>0.660000</td>\n",
       "      <td>0.621200</td>\n",
       "      <td>0.780000</td>\n",
       "      <td>0.253700</td>\n",
       "      <td>48.000000</td>\n",
       "      <td>220.000000</td>\n",
       "      <td>281.000000</td>\n",
       "    </tr>\n",
       "    <tr>\n",
       "      <th>max</th>\n",
       "      <td>17379.0000</td>\n",
       "      <td>4.000000</td>\n",
       "      <td>1.000000</td>\n",
       "      <td>12.000000</td>\n",
       "      <td>23.000000</td>\n",
       "      <td>1.000000</td>\n",
       "      <td>6.000000</td>\n",
       "      <td>1.000000</td>\n",
       "      <td>4.000000</td>\n",
       "      <td>1.000000</td>\n",
       "      <td>1.000000</td>\n",
       "      <td>1.000000</td>\n",
       "      <td>0.850700</td>\n",
       "      <td>367.000000</td>\n",
       "      <td>886.000000</td>\n",
       "      <td>977.000000</td>\n",
       "    </tr>\n",
       "  </tbody>\n",
       "</table>\n",
       "</div>"
      ],
      "text/plain": [
       "          instant        season            yr          mnth            hr  \\\n",
       "count  17379.0000  17379.000000  17379.000000  17379.000000  17379.000000   \n",
       "mean    8690.0000      2.501640      0.502561      6.537775     11.546752   \n",
       "std     5017.0295      1.106918      0.500008      3.438776      6.914405   \n",
       "min        1.0000      1.000000      0.000000      1.000000      0.000000   \n",
       "25%     4345.5000      2.000000      0.000000      4.000000      6.000000   \n",
       "50%     8690.0000      3.000000      1.000000      7.000000     12.000000   \n",
       "75%    13034.5000      3.000000      1.000000     10.000000     18.000000   \n",
       "max    17379.0000      4.000000      1.000000     12.000000     23.000000   \n",
       "\n",
       "            holiday       weekday    workingday    weathersit          temp  \\\n",
       "count  17379.000000  17379.000000  17379.000000  17379.000000  17379.000000   \n",
       "mean       0.028770      3.003683      0.682721      1.425283      0.496987   \n",
       "std        0.167165      2.005771      0.465431      0.639357      0.192556   \n",
       "min        0.000000      0.000000      0.000000      1.000000      0.020000   \n",
       "25%        0.000000      1.000000      0.000000      1.000000      0.340000   \n",
       "50%        0.000000      3.000000      1.000000      1.000000      0.500000   \n",
       "75%        0.000000      5.000000      1.000000      2.000000      0.660000   \n",
       "max        1.000000      6.000000      1.000000      4.000000      1.000000   \n",
       "\n",
       "              atemp           hum     windspeed        casual    registered  \\\n",
       "count  17379.000000  17379.000000  17379.000000  17379.000000  17379.000000   \n",
       "mean       0.475775      0.627229      0.190098     35.676218    153.786869   \n",
       "std        0.171850      0.192930      0.122340     49.305030    151.357286   \n",
       "min        0.000000      0.000000      0.000000      0.000000      0.000000   \n",
       "25%        0.333300      0.480000      0.104500      4.000000     34.000000   \n",
       "50%        0.484800      0.630000      0.194000     17.000000    115.000000   \n",
       "75%        0.621200      0.780000      0.253700     48.000000    220.000000   \n",
       "max        1.000000      1.000000      0.850700    367.000000    886.000000   \n",
       "\n",
       "                cnt  \n",
       "count  17379.000000  \n",
       "mean     189.463088  \n",
       "std      181.387599  \n",
       "min        1.000000  \n",
       "25%       40.000000  \n",
       "50%      142.000000  \n",
       "75%      281.000000  \n",
       "max      977.000000  "
      ]
     },
     "execution_count": 13,
     "metadata": {},
     "output_type": "execute_result"
    }
   ],
   "source": [
    "hour_df.describe()"
   ]
  },
  {
   "cell_type": "markdown",
   "metadata": {},
   "source": [
    "tidak terdapat keanehan pada nilai statistik pada data hour_df"
   ]
  },
  {
   "cell_type": "markdown",
   "metadata": {
    "id": "EhN5R4hr8DC1"
   },
   "source": [
    "### Cleaning Data"
   ]
  },
  {
   "cell_type": "markdown",
   "metadata": {},
   "source": [
    "sebelum melanjutkan cleaning data karena tabel day dan hour hanya berbeda pada kolomnya saja, saya akan menghapus tabel hour alasannya adalah tabel tersebut tidak akan diperlukan untuk keperluan analisis bisnis karena tidak relevan dengan pertanyaan yang telah saya tetapkan sebelumnya."
   ]
  },
  {
   "cell_type": "code",
   "execution_count": 14,
   "metadata": {
    "id": "jVnYpprE9Evz"
   },
   "outputs": [],
   "source": [
    "del hour_df"
   ]
  },
  {
   "cell_type": "markdown",
   "metadata": {},
   "source": [
    "a. menghapus kolom yang tidak diperlukan, kolom tersebut adalah:\n",
    "* instan karena hanya menampilkan nomor urut saja\n",
    "* windspeed karena tidak ada pertanyaan bisnis yang berkaitan dengan kecepatan angin"
   ]
  },
  {
   "cell_type": "code",
   "execution_count": 15,
   "metadata": {},
   "outputs": [
    {
     "data": {
      "text/html": [
       "<div>\n",
       "<style scoped>\n",
       "    .dataframe tbody tr th:only-of-type {\n",
       "        vertical-align: middle;\n",
       "    }\n",
       "\n",
       "    .dataframe tbody tr th {\n",
       "        vertical-align: top;\n",
       "    }\n",
       "\n",
       "    .dataframe thead th {\n",
       "        text-align: right;\n",
       "    }\n",
       "</style>\n",
       "<table border=\"1\" class=\"dataframe\">\n",
       "  <thead>\n",
       "    <tr style=\"text-align: right;\">\n",
       "      <th></th>\n",
       "      <th>dteday</th>\n",
       "      <th>season</th>\n",
       "      <th>yr</th>\n",
       "      <th>mnth</th>\n",
       "      <th>holiday</th>\n",
       "      <th>weekday</th>\n",
       "      <th>workingday</th>\n",
       "      <th>weathersit</th>\n",
       "      <th>temp</th>\n",
       "      <th>atemp</th>\n",
       "      <th>hum</th>\n",
       "      <th>casual</th>\n",
       "      <th>registered</th>\n",
       "      <th>cnt</th>\n",
       "    </tr>\n",
       "  </thead>\n",
       "  <tbody>\n",
       "    <tr>\n",
       "      <th>0</th>\n",
       "      <td>2011-01-01</td>\n",
       "      <td>1</td>\n",
       "      <td>0</td>\n",
       "      <td>1</td>\n",
       "      <td>0</td>\n",
       "      <td>6</td>\n",
       "      <td>0</td>\n",
       "      <td>2</td>\n",
       "      <td>0.344167</td>\n",
       "      <td>0.363625</td>\n",
       "      <td>0.805833</td>\n",
       "      <td>331</td>\n",
       "      <td>654</td>\n",
       "      <td>985</td>\n",
       "    </tr>\n",
       "    <tr>\n",
       "      <th>1</th>\n",
       "      <td>2011-01-02</td>\n",
       "      <td>1</td>\n",
       "      <td>0</td>\n",
       "      <td>1</td>\n",
       "      <td>0</td>\n",
       "      <td>0</td>\n",
       "      <td>0</td>\n",
       "      <td>2</td>\n",
       "      <td>0.363478</td>\n",
       "      <td>0.353739</td>\n",
       "      <td>0.696087</td>\n",
       "      <td>131</td>\n",
       "      <td>670</td>\n",
       "      <td>801</td>\n",
       "    </tr>\n",
       "    <tr>\n",
       "      <th>2</th>\n",
       "      <td>2011-01-03</td>\n",
       "      <td>1</td>\n",
       "      <td>0</td>\n",
       "      <td>1</td>\n",
       "      <td>0</td>\n",
       "      <td>1</td>\n",
       "      <td>1</td>\n",
       "      <td>1</td>\n",
       "      <td>0.196364</td>\n",
       "      <td>0.189405</td>\n",
       "      <td>0.437273</td>\n",
       "      <td>120</td>\n",
       "      <td>1229</td>\n",
       "      <td>1349</td>\n",
       "    </tr>\n",
       "    <tr>\n",
       "      <th>3</th>\n",
       "      <td>2011-01-04</td>\n",
       "      <td>1</td>\n",
       "      <td>0</td>\n",
       "      <td>1</td>\n",
       "      <td>0</td>\n",
       "      <td>2</td>\n",
       "      <td>1</td>\n",
       "      <td>1</td>\n",
       "      <td>0.200000</td>\n",
       "      <td>0.212122</td>\n",
       "      <td>0.590435</td>\n",
       "      <td>108</td>\n",
       "      <td>1454</td>\n",
       "      <td>1562</td>\n",
       "    </tr>\n",
       "    <tr>\n",
       "      <th>4</th>\n",
       "      <td>2011-01-05</td>\n",
       "      <td>1</td>\n",
       "      <td>0</td>\n",
       "      <td>1</td>\n",
       "      <td>0</td>\n",
       "      <td>3</td>\n",
       "      <td>1</td>\n",
       "      <td>1</td>\n",
       "      <td>0.226957</td>\n",
       "      <td>0.229270</td>\n",
       "      <td>0.436957</td>\n",
       "      <td>82</td>\n",
       "      <td>1518</td>\n",
       "      <td>1600</td>\n",
       "    </tr>\n",
       "  </tbody>\n",
       "</table>\n",
       "</div>"
      ],
      "text/plain": [
       "       dteday  season  yr  mnth  holiday  weekday  workingday  weathersit  \\\n",
       "0  2011-01-01       1   0     1        0        6           0           2   \n",
       "1  2011-01-02       1   0     1        0        0           0           2   \n",
       "2  2011-01-03       1   0     1        0        1           1           1   \n",
       "3  2011-01-04       1   0     1        0        2           1           1   \n",
       "4  2011-01-05       1   0     1        0        3           1           1   \n",
       "\n",
       "       temp     atemp       hum  casual  registered   cnt  \n",
       "0  0.344167  0.363625  0.805833     331         654   985  \n",
       "1  0.363478  0.353739  0.696087     131         670   801  \n",
       "2  0.196364  0.189405  0.437273     120        1229  1349  \n",
       "3  0.200000  0.212122  0.590435     108        1454  1562  \n",
       "4  0.226957  0.229270  0.436957      82        1518  1600  "
      ]
     },
     "execution_count": 15,
     "metadata": {},
     "output_type": "execute_result"
    }
   ],
   "source": [
    "drop_col=['instant', 'windspeed']\n",
    "for i in day_df.columns:\n",
    "    if i in drop_col:\n",
    "        day_df.drop(labels=i, axis=1, inplace=True)\n",
    "\n",
    "day_df.head()"
   ]
  },
  {
   "cell_type": "markdown",
   "metadata": {},
   "source": [
    "b. Mengubah nama judul kolom"
   ]
  },
  {
   "cell_type": "code",
   "execution_count": 16,
   "metadata": {},
   "outputs": [
    {
     "data": {
      "text/html": [
       "<div>\n",
       "<style scoped>\n",
       "    .dataframe tbody tr th:only-of-type {\n",
       "        vertical-align: middle;\n",
       "    }\n",
       "\n",
       "    .dataframe tbody tr th {\n",
       "        vertical-align: top;\n",
       "    }\n",
       "\n",
       "    .dataframe thead th {\n",
       "        text-align: right;\n",
       "    }\n",
       "</style>\n",
       "<table border=\"1\" class=\"dataframe\">\n",
       "  <thead>\n",
       "    <tr style=\"text-align: right;\">\n",
       "      <th></th>\n",
       "      <th>dateday</th>\n",
       "      <th>season</th>\n",
       "      <th>year</th>\n",
       "      <th>month</th>\n",
       "      <th>holiday</th>\n",
       "      <th>weekday</th>\n",
       "      <th>workingday</th>\n",
       "      <th>weather_cond</th>\n",
       "      <th>temp</th>\n",
       "      <th>atemp</th>\n",
       "      <th>hum</th>\n",
       "      <th>casual</th>\n",
       "      <th>registered</th>\n",
       "      <th>count</th>\n",
       "    </tr>\n",
       "  </thead>\n",
       "  <tbody>\n",
       "    <tr>\n",
       "      <th>0</th>\n",
       "      <td>2011-01-01</td>\n",
       "      <td>1</td>\n",
       "      <td>0</td>\n",
       "      <td>1</td>\n",
       "      <td>0</td>\n",
       "      <td>6</td>\n",
       "      <td>0</td>\n",
       "      <td>2</td>\n",
       "      <td>0.344167</td>\n",
       "      <td>0.363625</td>\n",
       "      <td>0.805833</td>\n",
       "      <td>331</td>\n",
       "      <td>654</td>\n",
       "      <td>985</td>\n",
       "    </tr>\n",
       "    <tr>\n",
       "      <th>1</th>\n",
       "      <td>2011-01-02</td>\n",
       "      <td>1</td>\n",
       "      <td>0</td>\n",
       "      <td>1</td>\n",
       "      <td>0</td>\n",
       "      <td>0</td>\n",
       "      <td>0</td>\n",
       "      <td>2</td>\n",
       "      <td>0.363478</td>\n",
       "      <td>0.353739</td>\n",
       "      <td>0.696087</td>\n",
       "      <td>131</td>\n",
       "      <td>670</td>\n",
       "      <td>801</td>\n",
       "    </tr>\n",
       "    <tr>\n",
       "      <th>2</th>\n",
       "      <td>2011-01-03</td>\n",
       "      <td>1</td>\n",
       "      <td>0</td>\n",
       "      <td>1</td>\n",
       "      <td>0</td>\n",
       "      <td>1</td>\n",
       "      <td>1</td>\n",
       "      <td>1</td>\n",
       "      <td>0.196364</td>\n",
       "      <td>0.189405</td>\n",
       "      <td>0.437273</td>\n",
       "      <td>120</td>\n",
       "      <td>1229</td>\n",
       "      <td>1349</td>\n",
       "    </tr>\n",
       "    <tr>\n",
       "      <th>3</th>\n",
       "      <td>2011-01-04</td>\n",
       "      <td>1</td>\n",
       "      <td>0</td>\n",
       "      <td>1</td>\n",
       "      <td>0</td>\n",
       "      <td>2</td>\n",
       "      <td>1</td>\n",
       "      <td>1</td>\n",
       "      <td>0.200000</td>\n",
       "      <td>0.212122</td>\n",
       "      <td>0.590435</td>\n",
       "      <td>108</td>\n",
       "      <td>1454</td>\n",
       "      <td>1562</td>\n",
       "    </tr>\n",
       "    <tr>\n",
       "      <th>4</th>\n",
       "      <td>2011-01-05</td>\n",
       "      <td>1</td>\n",
       "      <td>0</td>\n",
       "      <td>1</td>\n",
       "      <td>0</td>\n",
       "      <td>3</td>\n",
       "      <td>1</td>\n",
       "      <td>1</td>\n",
       "      <td>0.226957</td>\n",
       "      <td>0.229270</td>\n",
       "      <td>0.436957</td>\n",
       "      <td>82</td>\n",
       "      <td>1518</td>\n",
       "      <td>1600</td>\n",
       "    </tr>\n",
       "  </tbody>\n",
       "</table>\n",
       "</div>"
      ],
      "text/plain": [
       "      dateday  season  year  month  holiday  weekday  workingday  \\\n",
       "0  2011-01-01       1     0      1        0        6           0   \n",
       "1  2011-01-02       1     0      1        0        0           0   \n",
       "2  2011-01-03       1     0      1        0        1           1   \n",
       "3  2011-01-04       1     0      1        0        2           1   \n",
       "4  2011-01-05       1     0      1        0        3           1   \n",
       "\n",
       "   weather_cond      temp     atemp       hum  casual  registered  count  \n",
       "0             2  0.344167  0.363625  0.805833     331         654    985  \n",
       "1             2  0.363478  0.353739  0.696087     131         670    801  \n",
       "2             1  0.196364  0.189405  0.437273     120        1229   1349  \n",
       "3             1  0.200000  0.212122  0.590435     108        1454   1562  \n",
       "4             1  0.226957  0.229270  0.436957      82        1518   1600  "
      ]
     },
     "execution_count": 16,
     "metadata": {},
     "output_type": "execute_result"
    }
   ],
   "source": [
    "day_df.rename(columns={\n",
    "    'dteday': 'dateday',\n",
    "    'yr': 'year',\n",
    "    'mnth': 'month',\n",
    "    'weathersit': 'weather_cond',\n",
    "    'cnt': 'count'\n",
    "}, inplace=True)\n",
    "\n",
    "day_df.head()"
   ]
  },
  {
   "cell_type": "markdown",
   "metadata": {},
   "source": [
    "c. mengubah angka menjadi nama bulan"
   ]
  },
  {
   "cell_type": "code",
   "execution_count": 17,
   "metadata": {},
   "outputs": [],
   "source": [
    "day_df['month'] = day_df['month'].map({\n",
    "    1: 'Jan', 2: 'Feb', 3: 'Mar', 4: 'Apr', 5: 'Mei', 6: 'Jun', 7: 'Jul', 8: 'Aug', 9: 'Sep', 10: 'Oct', 11: 'Nov', 12: 'Dec'\n",
    "})"
   ]
  },
  {
   "cell_type": "markdown",
   "metadata": {},
   "source": [
    "d. Mengganti angka menjadi keterangan pada season"
   ]
  },
  {
   "cell_type": "code",
   "execution_count": 18,
   "metadata": {},
   "outputs": [],
   "source": [
    "day_df['season'] = day_df['season'].map({\n",
    "    1: 'Spring', 2: 'Summer', 3: 'Fall', 4: 'Winter'\n",
    "})"
   ]
  },
  {
   "cell_type": "markdown",
   "metadata": {},
   "source": [
    "e. Mengganti angka menjadi keterangan pada weekday"
   ]
  },
  {
   "cell_type": "code",
   "execution_count": 19,
   "metadata": {},
   "outputs": [],
   "source": [
    "day_df['weekday'] = day_df['weekday'].map({\n",
    "    0: 'Sun', 1: 'Mon', 2: 'Tue', 3: 'Wed', 4: 'Thu', 5: 'Fri', 6: 'Sat'\n",
    "})"
   ]
  },
  {
   "cell_type": "markdown",
   "metadata": {},
   "source": [
    "f. Mengganti angka menjadi keterangan pada weather_cond"
   ]
  },
  {
   "cell_type": "code",
   "execution_count": 20,
   "metadata": {},
   "outputs": [],
   "source": [
    "day_df['weather_cond'] = day_df['weather_cond'].map({\n",
    "    1: 'Clear/Partly Cloudy',\n",
    "    2: 'Misty/Cloudy',\n",
    "    3: 'Light Snow/Rain',\n",
    "    4: 'Severe Weather'\n",
    "})"
   ]
  },
  {
   "cell_type": "code",
   "execution_count": 21,
   "metadata": {},
   "outputs": [
    {
     "data": {
      "text/html": [
       "<div>\n",
       "<style scoped>\n",
       "    .dataframe tbody tr th:only-of-type {\n",
       "        vertical-align: middle;\n",
       "    }\n",
       "\n",
       "    .dataframe tbody tr th {\n",
       "        vertical-align: top;\n",
       "    }\n",
       "\n",
       "    .dataframe thead th {\n",
       "        text-align: right;\n",
       "    }\n",
       "</style>\n",
       "<table border=\"1\" class=\"dataframe\">\n",
       "  <thead>\n",
       "    <tr style=\"text-align: right;\">\n",
       "      <th></th>\n",
       "      <th>dateday</th>\n",
       "      <th>season</th>\n",
       "      <th>year</th>\n",
       "      <th>month</th>\n",
       "      <th>holiday</th>\n",
       "      <th>weekday</th>\n",
       "      <th>workingday</th>\n",
       "      <th>weather_cond</th>\n",
       "      <th>temp</th>\n",
       "      <th>atemp</th>\n",
       "      <th>hum</th>\n",
       "      <th>casual</th>\n",
       "      <th>registered</th>\n",
       "      <th>count</th>\n",
       "    </tr>\n",
       "  </thead>\n",
       "  <tbody>\n",
       "    <tr>\n",
       "      <th>0</th>\n",
       "      <td>2011-01-01</td>\n",
       "      <td>Spring</td>\n",
       "      <td>0</td>\n",
       "      <td>Jan</td>\n",
       "      <td>0</td>\n",
       "      <td>Sat</td>\n",
       "      <td>0</td>\n",
       "      <td>Misty/Cloudy</td>\n",
       "      <td>0.344167</td>\n",
       "      <td>0.363625</td>\n",
       "      <td>0.805833</td>\n",
       "      <td>331</td>\n",
       "      <td>654</td>\n",
       "      <td>985</td>\n",
       "    </tr>\n",
       "    <tr>\n",
       "      <th>1</th>\n",
       "      <td>2011-01-02</td>\n",
       "      <td>Spring</td>\n",
       "      <td>0</td>\n",
       "      <td>Jan</td>\n",
       "      <td>0</td>\n",
       "      <td>Sun</td>\n",
       "      <td>0</td>\n",
       "      <td>Misty/Cloudy</td>\n",
       "      <td>0.363478</td>\n",
       "      <td>0.353739</td>\n",
       "      <td>0.696087</td>\n",
       "      <td>131</td>\n",
       "      <td>670</td>\n",
       "      <td>801</td>\n",
       "    </tr>\n",
       "    <tr>\n",
       "      <th>2</th>\n",
       "      <td>2011-01-03</td>\n",
       "      <td>Spring</td>\n",
       "      <td>0</td>\n",
       "      <td>Jan</td>\n",
       "      <td>0</td>\n",
       "      <td>Mon</td>\n",
       "      <td>1</td>\n",
       "      <td>Clear/Partly Cloudy</td>\n",
       "      <td>0.196364</td>\n",
       "      <td>0.189405</td>\n",
       "      <td>0.437273</td>\n",
       "      <td>120</td>\n",
       "      <td>1229</td>\n",
       "      <td>1349</td>\n",
       "    </tr>\n",
       "    <tr>\n",
       "      <th>3</th>\n",
       "      <td>2011-01-04</td>\n",
       "      <td>Spring</td>\n",
       "      <td>0</td>\n",
       "      <td>Jan</td>\n",
       "      <td>0</td>\n",
       "      <td>Tue</td>\n",
       "      <td>1</td>\n",
       "      <td>Clear/Partly Cloudy</td>\n",
       "      <td>0.200000</td>\n",
       "      <td>0.212122</td>\n",
       "      <td>0.590435</td>\n",
       "      <td>108</td>\n",
       "      <td>1454</td>\n",
       "      <td>1562</td>\n",
       "    </tr>\n",
       "    <tr>\n",
       "      <th>4</th>\n",
       "      <td>2011-01-05</td>\n",
       "      <td>Spring</td>\n",
       "      <td>0</td>\n",
       "      <td>Jan</td>\n",
       "      <td>0</td>\n",
       "      <td>Wed</td>\n",
       "      <td>1</td>\n",
       "      <td>Clear/Partly Cloudy</td>\n",
       "      <td>0.226957</td>\n",
       "      <td>0.229270</td>\n",
       "      <td>0.436957</td>\n",
       "      <td>82</td>\n",
       "      <td>1518</td>\n",
       "      <td>1600</td>\n",
       "    </tr>\n",
       "  </tbody>\n",
       "</table>\n",
       "</div>"
      ],
      "text/plain": [
       "      dateday  season  year month  holiday weekday  workingday  \\\n",
       "0  2011-01-01  Spring     0   Jan        0     Sat           0   \n",
       "1  2011-01-02  Spring     0   Jan        0     Sun           0   \n",
       "2  2011-01-03  Spring     0   Jan        0     Mon           1   \n",
       "3  2011-01-04  Spring     0   Jan        0     Tue           1   \n",
       "4  2011-01-05  Spring     0   Jan        0     Wed           1   \n",
       "\n",
       "          weather_cond      temp     atemp       hum  casual  registered  \\\n",
       "0         Misty/Cloudy  0.344167  0.363625  0.805833     331         654   \n",
       "1         Misty/Cloudy  0.363478  0.353739  0.696087     131         670   \n",
       "2  Clear/Partly Cloudy  0.196364  0.189405  0.437273     120        1229   \n",
       "3  Clear/Partly Cloudy  0.200000  0.212122  0.590435     108        1454   \n",
       "4  Clear/Partly Cloudy  0.226957  0.229270  0.436957      82        1518   \n",
       "\n",
       "   count  \n",
       "0    985  \n",
       "1    801  \n",
       "2   1349  \n",
       "3   1562  \n",
       "4   1600  "
      ]
     },
     "execution_count": 21,
     "metadata": {},
     "output_type": "execute_result"
    }
   ],
   "source": [
    "day_df.head()"
   ]
  },
  {
   "cell_type": "markdown",
   "metadata": {},
   "source": [
    "g. Mengubah tipe data"
   ]
  },
  {
   "cell_type": "code",
   "execution_count": 22,
   "metadata": {},
   "outputs": [],
   "source": [
    "# mengubah tipe data object ke datetime\n",
    "day_df['dateday'] = pd.to_datetime(day_df.dateday)\n",
    "\n",
    "# mengubah tipe data integer ke categorical\n",
    "day_df['season'] = day_df.season.astype('category')\n",
    "day_df['year'] = day_df.year.astype('category')\n",
    "day_df['month'] = day_df.month.astype('category')\n",
    "day_df['holiday'] = day_df.holiday.astype('category')\n",
    "day_df['weekday'] = day_df.weekday.astype('category')\n",
    "day_df['workingday'] = day_df.workingday.astype('category')\n",
    "day_df['weather_cond'] = day_df.weather_cond.astype('category')"
   ]
  },
  {
   "cell_type": "code",
   "execution_count": 23,
   "metadata": {},
   "outputs": [
    {
     "name": "stdout",
     "output_type": "stream",
     "text": [
      "<class 'pandas.core.frame.DataFrame'>\n",
      "RangeIndex: 731 entries, 0 to 730\n",
      "Data columns (total 14 columns):\n",
      " #   Column        Non-Null Count  Dtype         \n",
      "---  ------        --------------  -----         \n",
      " 0   dateday       731 non-null    datetime64[ns]\n",
      " 1   season        731 non-null    category      \n",
      " 2   year          731 non-null    category      \n",
      " 3   month         731 non-null    category      \n",
      " 4   holiday       731 non-null    category      \n",
      " 5   weekday       731 non-null    category      \n",
      " 6   workingday    731 non-null    category      \n",
      " 7   weather_cond  731 non-null    category      \n",
      " 8   temp          731 non-null    float64       \n",
      " 9   atemp         731 non-null    float64       \n",
      " 10  hum           731 non-null    float64       \n",
      " 11  casual        731 non-null    int64         \n",
      " 12  registered    731 non-null    int64         \n",
      " 13  count         731 non-null    int64         \n",
      "dtypes: category(7), datetime64[ns](1), float64(3), int64(3)\n",
      "memory usage: 46.5 KB\n"
     ]
    }
   ],
   "source": [
    "day_df.info()"
   ]
  },
  {
   "cell_type": "markdown",
   "metadata": {
    "id": "gp-Y6wU38DC1"
   },
   "source": [
    "## Exploratory Data Analysis (EDA)"
   ]
  },
  {
   "cell_type": "markdown",
   "metadata": {
    "id": "MW7WF2kr8DC1"
   },
   "source": [
    "### Explore Data day_df"
   ]
  },
  {
   "cell_type": "markdown",
   "metadata": {},
   "source": [
    "a. mengelompokkan penyewa sepeda berdasarkan keadaan cuaca"
   ]
  },
  {
   "cell_type": "code",
   "execution_count": 24,
   "metadata": {
    "id": "e9CQCZjk8DC2"
   },
   "outputs": [
    {
     "name": "stderr",
     "output_type": "stream",
     "text": [
      "/var/folders/kf/f5xw1c7123j0hx9pvnskytlc0000gn/T/ipykernel_2909/2311190310.py:1: FutureWarning: The default of observed=False is deprecated and will be changed to True in a future version of pandas. Pass observed=False to retain current behavior or observed=True to adopt the future default and silence this warning.\n",
      "  day_df.groupby(by='weather_cond').agg({\n"
     ]
    },
    {
     "data": {
      "text/html": [
       "<div>\n",
       "<style scoped>\n",
       "    .dataframe tbody tr th:only-of-type {\n",
       "        vertical-align: middle;\n",
       "    }\n",
       "\n",
       "    .dataframe tbody tr th {\n",
       "        vertical-align: top;\n",
       "    }\n",
       "\n",
       "    .dataframe thead tr th {\n",
       "        text-align: left;\n",
       "    }\n",
       "\n",
       "    .dataframe thead tr:last-of-type th {\n",
       "        text-align: right;\n",
       "    }\n",
       "</style>\n",
       "<table border=\"1\" class=\"dataframe\">\n",
       "  <thead>\n",
       "    <tr>\n",
       "      <th></th>\n",
       "      <th colspan=\"4\" halign=\"left\">count</th>\n",
       "    </tr>\n",
       "    <tr>\n",
       "      <th></th>\n",
       "      <th>max</th>\n",
       "      <th>min</th>\n",
       "      <th>mean</th>\n",
       "      <th>sum</th>\n",
       "    </tr>\n",
       "    <tr>\n",
       "      <th>weather_cond</th>\n",
       "      <th></th>\n",
       "      <th></th>\n",
       "      <th></th>\n",
       "      <th></th>\n",
       "    </tr>\n",
       "  </thead>\n",
       "  <tbody>\n",
       "    <tr>\n",
       "      <th>Clear/Partly Cloudy</th>\n",
       "      <td>8714</td>\n",
       "      <td>431</td>\n",
       "      <td>4876.786177</td>\n",
       "      <td>2257952</td>\n",
       "    </tr>\n",
       "    <tr>\n",
       "      <th>Light Snow/Rain</th>\n",
       "      <td>4639</td>\n",
       "      <td>22</td>\n",
       "      <td>1803.285714</td>\n",
       "      <td>37869</td>\n",
       "    </tr>\n",
       "    <tr>\n",
       "      <th>Misty/Cloudy</th>\n",
       "      <td>8362</td>\n",
       "      <td>605</td>\n",
       "      <td>4035.862348</td>\n",
       "      <td>996858</td>\n",
       "    </tr>\n",
       "  </tbody>\n",
       "</table>\n",
       "</div>"
      ],
      "text/plain": [
       "                    count                           \n",
       "                      max  min         mean      sum\n",
       "weather_cond                                        \n",
       "Clear/Partly Cloudy  8714  431  4876.786177  2257952\n",
       "Light Snow/Rain      4639   22  1803.285714    37869\n",
       "Misty/Cloudy         8362  605  4035.862348   996858"
      ]
     },
     "execution_count": 24,
     "metadata": {},
     "output_type": "execute_result"
    }
   ],
   "source": [
    "day_df.groupby(by='weather_cond').agg({\n",
    "    'count': ['max', 'min', 'mean', 'sum']\n",
    "})"
   ]
  },
  {
   "cell_type": "markdown",
   "metadata": {},
   "source": [
    "Berdasarkan hasil di atas, terlihat bahwa penyewa sepeda lebih condong untuk menyewa saat cuaca sedang cerah atau mendung. Permintaan menjadi sangat rendah saat salju turun dan tidak ada permintaan sama sekali saat cuaca sangat buruk."
   ]
  },
  {
   "cell_type": "markdown",
   "metadata": {},
   "source": [
    "b. mengelompokkan penyewa sepeda berdasarkan bulan"
   ]
  },
  {
   "cell_type": "code",
   "execution_count": 25,
   "metadata": {},
   "outputs": [
    {
     "name": "stderr",
     "output_type": "stream",
     "text": [
      "/var/folders/kf/f5xw1c7123j0hx9pvnskytlc0000gn/T/ipykernel_2909/2974312987.py:1: FutureWarning: The default of observed=False is deprecated and will be changed to True in a future version of pandas. Pass observed=False to retain current behavior or observed=True to adopt the future default and silence this warning.\n",
      "  day_df.groupby(by='month').agg({\n"
     ]
    },
    {
     "data": {
      "text/html": [
       "<div>\n",
       "<style scoped>\n",
       "    .dataframe tbody tr th:only-of-type {\n",
       "        vertical-align: middle;\n",
       "    }\n",
       "\n",
       "    .dataframe tbody tr th {\n",
       "        vertical-align: top;\n",
       "    }\n",
       "\n",
       "    .dataframe thead tr th {\n",
       "        text-align: left;\n",
       "    }\n",
       "\n",
       "    .dataframe thead tr:last-of-type th {\n",
       "        text-align: right;\n",
       "    }\n",
       "</style>\n",
       "<table border=\"1\" class=\"dataframe\">\n",
       "  <thead>\n",
       "    <tr>\n",
       "      <th></th>\n",
       "      <th colspan=\"4\" halign=\"left\">count</th>\n",
       "    </tr>\n",
       "    <tr>\n",
       "      <th></th>\n",
       "      <th>max</th>\n",
       "      <th>min</th>\n",
       "      <th>mean</th>\n",
       "      <th>sum</th>\n",
       "    </tr>\n",
       "    <tr>\n",
       "      <th>month</th>\n",
       "      <th></th>\n",
       "      <th></th>\n",
       "      <th></th>\n",
       "      <th></th>\n",
       "    </tr>\n",
       "  </thead>\n",
       "  <tbody>\n",
       "    <tr>\n",
       "      <th>Apr</th>\n",
       "      <td>7460</td>\n",
       "      <td>795</td>\n",
       "      <td>4484.900000</td>\n",
       "      <td>269094</td>\n",
       "    </tr>\n",
       "    <tr>\n",
       "      <th>Aug</th>\n",
       "      <td>7865</td>\n",
       "      <td>1115</td>\n",
       "      <td>5664.419355</td>\n",
       "      <td>351194</td>\n",
       "    </tr>\n",
       "    <tr>\n",
       "      <th>Dec</th>\n",
       "      <td>6606</td>\n",
       "      <td>441</td>\n",
       "      <td>3403.806452</td>\n",
       "      <td>211036</td>\n",
       "    </tr>\n",
       "    <tr>\n",
       "      <th>Feb</th>\n",
       "      <td>5062</td>\n",
       "      <td>1005</td>\n",
       "      <td>2655.298246</td>\n",
       "      <td>151352</td>\n",
       "    </tr>\n",
       "    <tr>\n",
       "      <th>Jan</th>\n",
       "      <td>4521</td>\n",
       "      <td>431</td>\n",
       "      <td>2176.338710</td>\n",
       "      <td>134933</td>\n",
       "    </tr>\n",
       "    <tr>\n",
       "      <th>Jul</th>\n",
       "      <td>8173</td>\n",
       "      <td>3285</td>\n",
       "      <td>5563.677419</td>\n",
       "      <td>344948</td>\n",
       "    </tr>\n",
       "    <tr>\n",
       "      <th>Jun</th>\n",
       "      <td>8120</td>\n",
       "      <td>3767</td>\n",
       "      <td>5772.366667</td>\n",
       "      <td>346342</td>\n",
       "    </tr>\n",
       "    <tr>\n",
       "      <th>Mar</th>\n",
       "      <td>8362</td>\n",
       "      <td>605</td>\n",
       "      <td>3692.258065</td>\n",
       "      <td>228920</td>\n",
       "    </tr>\n",
       "    <tr>\n",
       "      <th>Mei</th>\n",
       "      <td>8294</td>\n",
       "      <td>2633</td>\n",
       "      <td>5349.774194</td>\n",
       "      <td>331686</td>\n",
       "    </tr>\n",
       "    <tr>\n",
       "      <th>Nov</th>\n",
       "      <td>6852</td>\n",
       "      <td>1495</td>\n",
       "      <td>4247.183333</td>\n",
       "      <td>254831</td>\n",
       "    </tr>\n",
       "    <tr>\n",
       "      <th>Oct</th>\n",
       "      <td>8156</td>\n",
       "      <td>22</td>\n",
       "      <td>5199.225806</td>\n",
       "      <td>322352</td>\n",
       "    </tr>\n",
       "    <tr>\n",
       "      <th>Sep</th>\n",
       "      <td>8714</td>\n",
       "      <td>1842</td>\n",
       "      <td>5766.516667</td>\n",
       "      <td>345991</td>\n",
       "    </tr>\n",
       "  </tbody>\n",
       "</table>\n",
       "</div>"
      ],
      "text/plain": [
       "      count                           \n",
       "        max   min         mean     sum\n",
       "month                                 \n",
       "Apr    7460   795  4484.900000  269094\n",
       "Aug    7865  1115  5664.419355  351194\n",
       "Dec    6606   441  3403.806452  211036\n",
       "Feb    5062  1005  2655.298246  151352\n",
       "Jan    4521   431  2176.338710  134933\n",
       "Jul    8173  3285  5563.677419  344948\n",
       "Jun    8120  3767  5772.366667  346342\n",
       "Mar    8362   605  3692.258065  228920\n",
       "Mei    8294  2633  5349.774194  331686\n",
       "Nov    6852  1495  4247.183333  254831\n",
       "Oct    8156    22  5199.225806  322352\n",
       "Sep    8714  1842  5766.516667  345991"
      ]
     },
     "execution_count": 25,
     "metadata": {},
     "output_type": "execute_result"
    }
   ],
   "source": [
    "day_df.groupby(by='month').agg({\n",
    "    'count': ['max', 'min', 'mean', 'sum']\n",
    "})"
   ]
  },
  {
   "cell_type": "markdown",
   "metadata": {},
   "source": [
    "Berdasarkan data di atas, kesimpulannya adalah bulan Juni memiliki rata-rata tertinggi dan jumlah penyewaan terbanyak, sementara bulan Januari memiliki rata-rata terendah dan jumlah penyewaan terkecil."
   ]
  },
  {
   "cell_type": "markdown",
   "metadata": {},
   "source": [
    "c.  membandingkan penyewa sepeda saat weekday dengan weekend"
   ]
  },
  {
   "cell_type": "code",
   "execution_count": 26,
   "metadata": {},
   "outputs": [
    {
     "name": "stderr",
     "output_type": "stream",
     "text": [
      "/var/folders/kf/f5xw1c7123j0hx9pvnskytlc0000gn/T/ipykernel_2909/2870456447.py:1: FutureWarning: The default of observed=False is deprecated and will be changed to True in a future version of pandas. Pass observed=False to retain current behavior or observed=True to adopt the future default and silence this warning.\n",
      "  day_df.groupby(by='weekday').agg({\n"
     ]
    },
    {
     "data": {
      "text/html": [
       "<div>\n",
       "<style scoped>\n",
       "    .dataframe tbody tr th:only-of-type {\n",
       "        vertical-align: middle;\n",
       "    }\n",
       "\n",
       "    .dataframe tbody tr th {\n",
       "        vertical-align: top;\n",
       "    }\n",
       "\n",
       "    .dataframe thead tr th {\n",
       "        text-align: left;\n",
       "    }\n",
       "\n",
       "    .dataframe thead tr:last-of-type th {\n",
       "        text-align: right;\n",
       "    }\n",
       "</style>\n",
       "<table border=\"1\" class=\"dataframe\">\n",
       "  <thead>\n",
       "    <tr>\n",
       "      <th></th>\n",
       "      <th colspan=\"3\" halign=\"left\">count</th>\n",
       "    </tr>\n",
       "    <tr>\n",
       "      <th></th>\n",
       "      <th>max</th>\n",
       "      <th>min</th>\n",
       "      <th>mean</th>\n",
       "    </tr>\n",
       "    <tr>\n",
       "      <th>weekday</th>\n",
       "      <th></th>\n",
       "      <th></th>\n",
       "      <th></th>\n",
       "    </tr>\n",
       "  </thead>\n",
       "  <tbody>\n",
       "    <tr>\n",
       "      <th>Fri</th>\n",
       "      <td>8362</td>\n",
       "      <td>1167</td>\n",
       "      <td>4690.288462</td>\n",
       "    </tr>\n",
       "    <tr>\n",
       "      <th>Mon</th>\n",
       "      <td>7525</td>\n",
       "      <td>22</td>\n",
       "      <td>4338.123810</td>\n",
       "    </tr>\n",
       "    <tr>\n",
       "      <th>Sat</th>\n",
       "      <td>8714</td>\n",
       "      <td>627</td>\n",
       "      <td>4550.542857</td>\n",
       "    </tr>\n",
       "    <tr>\n",
       "      <th>Sun</th>\n",
       "      <td>8227</td>\n",
       "      <td>605</td>\n",
       "      <td>4228.828571</td>\n",
       "    </tr>\n",
       "    <tr>\n",
       "      <th>Thu</th>\n",
       "      <td>7804</td>\n",
       "      <td>431</td>\n",
       "      <td>4667.259615</td>\n",
       "    </tr>\n",
       "    <tr>\n",
       "      <th>Tue</th>\n",
       "      <td>7767</td>\n",
       "      <td>683</td>\n",
       "      <td>4510.663462</td>\n",
       "    </tr>\n",
       "    <tr>\n",
       "      <th>Wed</th>\n",
       "      <td>8173</td>\n",
       "      <td>441</td>\n",
       "      <td>4548.538462</td>\n",
       "    </tr>\n",
       "  </tbody>\n",
       "</table>\n",
       "</div>"
      ],
      "text/plain": [
       "        count                   \n",
       "          max   min         mean\n",
       "weekday                         \n",
       "Fri      8362  1167  4690.288462\n",
       "Mon      7525    22  4338.123810\n",
       "Sat      8714   627  4550.542857\n",
       "Sun      8227   605  4228.828571\n",
       "Thu      7804   431  4667.259615\n",
       "Tue      7767   683  4510.663462\n",
       "Wed      8173   441  4548.538462"
      ]
     },
     "execution_count": 26,
     "metadata": {},
     "output_type": "execute_result"
    }
   ],
   "source": [
    "day_df.groupby(by='weekday').agg({\n",
    "    'count':['max','min','mean']\n",
    "})"
   ]
  },
  {
   "cell_type": "markdown",
   "metadata": {},
   "source": [
    "Berdasarkan data di atas, urutan rata-rata jumlah penyewa dari yang terbesar ke yang terkecil adalah sebagai berikut: Jumat (Fri), Kamis (Thu), Sabtu (Sat), Rabu (Wed), Selasa (Tue), Senin (Mon), dan Minggu (Sun)."
   ]
  },
  {
   "cell_type": "markdown",
   "metadata": {},
   "source": [
    "d. mengelompokkan penyewa sepeda berdasarkan holiday"
   ]
  },
  {
   "cell_type": "code",
   "execution_count": 27,
   "metadata": {},
   "outputs": [
    {
     "name": "stderr",
     "output_type": "stream",
     "text": [
      "/var/folders/kf/f5xw1c7123j0hx9pvnskytlc0000gn/T/ipykernel_2909/1497150874.py:1: FutureWarning: The default of observed=False is deprecated and will be changed to True in a future version of pandas. Pass observed=False to retain current behavior or observed=True to adopt the future default and silence this warning.\n",
      "  day_df.groupby(by='holiday').agg({\n"
     ]
    },
    {
     "data": {
      "text/html": [
       "<div>\n",
       "<style scoped>\n",
       "    .dataframe tbody tr th:only-of-type {\n",
       "        vertical-align: middle;\n",
       "    }\n",
       "\n",
       "    .dataframe tbody tr th {\n",
       "        vertical-align: top;\n",
       "    }\n",
       "\n",
       "    .dataframe thead tr th {\n",
       "        text-align: left;\n",
       "    }\n",
       "\n",
       "    .dataframe thead tr:last-of-type th {\n",
       "        text-align: right;\n",
       "    }\n",
       "</style>\n",
       "<table border=\"1\" class=\"dataframe\">\n",
       "  <thead>\n",
       "    <tr>\n",
       "      <th></th>\n",
       "      <th colspan=\"4\" halign=\"left\">count</th>\n",
       "    </tr>\n",
       "    <tr>\n",
       "      <th></th>\n",
       "      <th>max</th>\n",
       "      <th>min</th>\n",
       "      <th>mean</th>\n",
       "      <th>sum</th>\n",
       "    </tr>\n",
       "    <tr>\n",
       "      <th>holiday</th>\n",
       "      <th></th>\n",
       "      <th></th>\n",
       "      <th></th>\n",
       "      <th></th>\n",
       "    </tr>\n",
       "  </thead>\n",
       "  <tbody>\n",
       "    <tr>\n",
       "      <th>0</th>\n",
       "      <td>8714</td>\n",
       "      <td>22</td>\n",
       "      <td>4527.104225</td>\n",
       "      <td>3214244</td>\n",
       "    </tr>\n",
       "    <tr>\n",
       "      <th>1</th>\n",
       "      <td>7403</td>\n",
       "      <td>1000</td>\n",
       "      <td>3735.000000</td>\n",
       "      <td>78435</td>\n",
       "    </tr>\n",
       "  </tbody>\n",
       "</table>\n",
       "</div>"
      ],
      "text/plain": [
       "        count                            \n",
       "          max   min         mean      sum\n",
       "holiday                                  \n",
       "0        8714    22  4527.104225  3214244\n",
       "1        7403  1000  3735.000000    78435"
      ]
     },
     "execution_count": 27,
     "metadata": {},
     "output_type": "execute_result"
    }
   ],
   "source": [
    "day_df.groupby(by='holiday').agg({\n",
    "    'count': ['max', 'min', 'mean', 'sum']\n",
    "})"
   ]
  },
  {
   "cell_type": "markdown",
   "metadata": {},
   "source": [
    "\n",
    "Berdasarkan data di atas, dapat disimpulkan bahwa kecenderungan penyewa sepeda adalah menyewa pada hari-hari biasa bukan pada hari-hari libur."
   ]
  },
  {
   "cell_type": "markdown",
   "metadata": {},
   "source": [
    "e. Mengelompokkan penyewa sepeda berdasrkan workingday"
   ]
  },
  {
   "cell_type": "code",
   "execution_count": 28,
   "metadata": {},
   "outputs": [
    {
     "name": "stderr",
     "output_type": "stream",
     "text": [
      "/var/folders/kf/f5xw1c7123j0hx9pvnskytlc0000gn/T/ipykernel_2909/3484920239.py:1: FutureWarning: The default of observed=False is deprecated and will be changed to True in a future version of pandas. Pass observed=False to retain current behavior or observed=True to adopt the future default and silence this warning.\n",
      "  day_df.groupby(by='workingday').agg({\n"
     ]
    },
    {
     "data": {
      "text/html": [
       "<div>\n",
       "<style scoped>\n",
       "    .dataframe tbody tr th:only-of-type {\n",
       "        vertical-align: middle;\n",
       "    }\n",
       "\n",
       "    .dataframe tbody tr th {\n",
       "        vertical-align: top;\n",
       "    }\n",
       "\n",
       "    .dataframe thead tr th {\n",
       "        text-align: left;\n",
       "    }\n",
       "\n",
       "    .dataframe thead tr:last-of-type th {\n",
       "        text-align: right;\n",
       "    }\n",
       "</style>\n",
       "<table border=\"1\" class=\"dataframe\">\n",
       "  <thead>\n",
       "    <tr>\n",
       "      <th></th>\n",
       "      <th colspan=\"3\" halign=\"left\">count</th>\n",
       "    </tr>\n",
       "    <tr>\n",
       "      <th></th>\n",
       "      <th>max</th>\n",
       "      <th>min</th>\n",
       "      <th>mean</th>\n",
       "    </tr>\n",
       "    <tr>\n",
       "      <th>workingday</th>\n",
       "      <th></th>\n",
       "      <th></th>\n",
       "      <th></th>\n",
       "    </tr>\n",
       "  </thead>\n",
       "  <tbody>\n",
       "    <tr>\n",
       "      <th>0</th>\n",
       "      <td>8714</td>\n",
       "      <td>605</td>\n",
       "      <td>4330.168831</td>\n",
       "    </tr>\n",
       "    <tr>\n",
       "      <th>1</th>\n",
       "      <td>8362</td>\n",
       "      <td>22</td>\n",
       "      <td>4584.820000</td>\n",
       "    </tr>\n",
       "  </tbody>\n",
       "</table>\n",
       "</div>"
      ],
      "text/plain": [
       "           count                  \n",
       "             max  min         mean\n",
       "workingday                        \n",
       "0           8714  605  4330.168831\n",
       "1           8362   22  4584.820000"
      ]
     },
     "execution_count": 28,
     "metadata": {},
     "output_type": "execute_result"
    }
   ],
   "source": [
    "day_df.groupby(by='workingday').agg({\n",
    "    'count': ['max', 'min', 'mean']\n",
    "})"
   ]
  },
  {
   "cell_type": "markdown",
   "metadata": {},
   "source": [
    "Berdasarkan data di atas, terlihat bahwa jumlah penyewaan sepeda lebih tinggi pada hari kerja dibandingkan dengan hari libur, meskipun perbedaannya tidak begitu signifikan."
   ]
  },
  {
   "cell_type": "markdown",
   "metadata": {},
   "source": [
    "f. Mengelompokkan penyewa sepeda berdasarkan season"
   ]
  },
  {
   "cell_type": "code",
   "execution_count": 29,
   "metadata": {},
   "outputs": [
    {
     "name": "stderr",
     "output_type": "stream",
     "text": [
      "/var/folders/kf/f5xw1c7123j0hx9pvnskytlc0000gn/T/ipykernel_2909/3641718347.py:1: FutureWarning: The default of observed=False is deprecated and will be changed to True in a future version of pandas. Pass observed=False to retain current behavior or observed=True to adopt the future default and silence this warning.\n",
      "  day_df.groupby(by='season').agg({\n"
     ]
    },
    {
     "data": {
      "text/html": [
       "<div>\n",
       "<style scoped>\n",
       "    .dataframe tbody tr th:only-of-type {\n",
       "        vertical-align: middle;\n",
       "    }\n",
       "\n",
       "    .dataframe tbody tr th {\n",
       "        vertical-align: top;\n",
       "    }\n",
       "\n",
       "    .dataframe thead tr th {\n",
       "        text-align: left;\n",
       "    }\n",
       "\n",
       "    .dataframe thead tr:last-of-type th {\n",
       "        text-align: right;\n",
       "    }\n",
       "</style>\n",
       "<table border=\"1\" class=\"dataframe\">\n",
       "  <thead>\n",
       "    <tr>\n",
       "      <th></th>\n",
       "      <th>casual</th>\n",
       "      <th>registered</th>\n",
       "      <th colspan=\"3\" halign=\"left\">count</th>\n",
       "    </tr>\n",
       "    <tr>\n",
       "      <th></th>\n",
       "      <th>mean</th>\n",
       "      <th>mean</th>\n",
       "      <th>max</th>\n",
       "      <th>min</th>\n",
       "      <th>mean</th>\n",
       "    </tr>\n",
       "    <tr>\n",
       "      <th>season</th>\n",
       "      <th></th>\n",
       "      <th></th>\n",
       "      <th></th>\n",
       "      <th></th>\n",
       "      <th></th>\n",
       "    </tr>\n",
       "  </thead>\n",
       "  <tbody>\n",
       "    <tr>\n",
       "      <th>Fall</th>\n",
       "      <td>1202.611702</td>\n",
       "      <td>4441.691489</td>\n",
       "      <td>8714</td>\n",
       "      <td>1115</td>\n",
       "      <td>5644.303191</td>\n",
       "    </tr>\n",
       "    <tr>\n",
       "      <th>Spring</th>\n",
       "      <td>334.928177</td>\n",
       "      <td>2269.204420</td>\n",
       "      <td>7836</td>\n",
       "      <td>431</td>\n",
       "      <td>2604.132597</td>\n",
       "    </tr>\n",
       "    <tr>\n",
       "      <th>Summer</th>\n",
       "      <td>1106.097826</td>\n",
       "      <td>3886.233696</td>\n",
       "      <td>8362</td>\n",
       "      <td>795</td>\n",
       "      <td>4992.331522</td>\n",
       "    </tr>\n",
       "    <tr>\n",
       "      <th>Winter</th>\n",
       "      <td>729.112360</td>\n",
       "      <td>3999.050562</td>\n",
       "      <td>8555</td>\n",
       "      <td>22</td>\n",
       "      <td>4728.162921</td>\n",
       "    </tr>\n",
       "  </tbody>\n",
       "</table>\n",
       "</div>"
      ],
      "text/plain": [
       "             casual   registered count                   \n",
       "               mean         mean   max   min         mean\n",
       "season                                                   \n",
       "Fall    1202.611702  4441.691489  8714  1115  5644.303191\n",
       "Spring   334.928177  2269.204420  7836   431  2604.132597\n",
       "Summer  1106.097826  3886.233696  8362   795  4992.331522\n",
       "Winter   729.112360  3999.050562  8555    22  4728.162921"
      ]
     },
     "execution_count": 29,
     "metadata": {},
     "output_type": "execute_result"
    }
   ],
   "source": [
    "day_df.groupby(by='season').agg({\n",
    "    'casual': 'mean',\n",
    "    'registered': 'mean',\n",
    "    'count': ['max', 'min', 'mean']\n",
    "})"
   ]
  },
  {
   "cell_type": "markdown",
   "metadata": {},
   "source": [
    "Berdasarkan analisis di atas, terlihat bahwa baik penyewa Casual maupun Registered cenderung lebih menyukai musim gugur (Fall) berdasarkan rata-rata penyewaan. Sebaliknya, penyewaan paling sedikit terjadi pada musim semi (Spring) dengan rata-rata yang terendah."
   ]
  },
  {
   "cell_type": "markdown",
   "metadata": {},
   "source": [
    "g. Mengelompokkan temp, hum, dan humidity berdasarkan season"
   ]
  },
  {
   "cell_type": "code",
   "execution_count": 30,
   "metadata": {},
   "outputs": [
    {
     "name": "stderr",
     "output_type": "stream",
     "text": [
      "/var/folders/kf/f5xw1c7123j0hx9pvnskytlc0000gn/T/ipykernel_2909/3725487608.py:1: FutureWarning: The default of observed=False is deprecated and will be changed to True in a future version of pandas. Pass observed=False to retain current behavior or observed=True to adopt the future default and silence this warning.\n",
      "  day_df.groupby(by='season').agg({\n"
     ]
    },
    {
     "data": {
      "text/html": [
       "<div>\n",
       "<style scoped>\n",
       "    .dataframe tbody tr th:only-of-type {\n",
       "        vertical-align: middle;\n",
       "    }\n",
       "\n",
       "    .dataframe tbody tr th {\n",
       "        vertical-align: top;\n",
       "    }\n",
       "\n",
       "    .dataframe thead tr th {\n",
       "        text-align: left;\n",
       "    }\n",
       "\n",
       "    .dataframe thead tr:last-of-type th {\n",
       "        text-align: right;\n",
       "    }\n",
       "</style>\n",
       "<table border=\"1\" class=\"dataframe\">\n",
       "  <thead>\n",
       "    <tr>\n",
       "      <th></th>\n",
       "      <th colspan=\"3\" halign=\"left\">temp</th>\n",
       "      <th colspan=\"3\" halign=\"left\">atemp</th>\n",
       "      <th colspan=\"3\" halign=\"left\">hum</th>\n",
       "    </tr>\n",
       "    <tr>\n",
       "      <th></th>\n",
       "      <th>max</th>\n",
       "      <th>min</th>\n",
       "      <th>mean</th>\n",
       "      <th>max</th>\n",
       "      <th>min</th>\n",
       "      <th>mean</th>\n",
       "      <th>max</th>\n",
       "      <th>min</th>\n",
       "      <th>mean</th>\n",
       "    </tr>\n",
       "    <tr>\n",
       "      <th>season</th>\n",
       "      <th></th>\n",
       "      <th></th>\n",
       "      <th></th>\n",
       "      <th></th>\n",
       "      <th></th>\n",
       "      <th></th>\n",
       "      <th></th>\n",
       "      <th></th>\n",
       "      <th></th>\n",
       "    </tr>\n",
       "  </thead>\n",
       "  <tbody>\n",
       "    <tr>\n",
       "      <th>Fall</th>\n",
       "      <td>0.861667</td>\n",
       "      <td>0.469167</td>\n",
       "      <td>0.706309</td>\n",
       "      <td>0.840896</td>\n",
       "      <td>0.242400</td>\n",
       "      <td>0.655898</td>\n",
       "      <td>0.939565</td>\n",
       "      <td>0.360000</td>\n",
       "      <td>0.633482</td>\n",
       "    </tr>\n",
       "    <tr>\n",
       "      <th>Spring</th>\n",
       "      <td>0.572500</td>\n",
       "      <td>0.059130</td>\n",
       "      <td>0.297748</td>\n",
       "      <td>0.548617</td>\n",
       "      <td>0.079070</td>\n",
       "      <td>0.296914</td>\n",
       "      <td>0.948261</td>\n",
       "      <td>0.000000</td>\n",
       "      <td>0.582903</td>\n",
       "    </tr>\n",
       "    <tr>\n",
       "      <th>Summer</th>\n",
       "      <td>0.808333</td>\n",
       "      <td>0.253043</td>\n",
       "      <td>0.544405</td>\n",
       "      <td>0.757579</td>\n",
       "      <td>0.250339</td>\n",
       "      <td>0.520307</td>\n",
       "      <td>0.922500</td>\n",
       "      <td>0.254167</td>\n",
       "      <td>0.626948</td>\n",
       "    </tr>\n",
       "    <tr>\n",
       "      <th>Winter</th>\n",
       "      <td>0.657500</td>\n",
       "      <td>0.220833</td>\n",
       "      <td>0.422906</td>\n",
       "      <td>0.607975</td>\n",
       "      <td>0.227913</td>\n",
       "      <td>0.415539</td>\n",
       "      <td>0.972500</td>\n",
       "      <td>0.333478</td>\n",
       "      <td>0.668719</td>\n",
       "    </tr>\n",
       "  </tbody>\n",
       "</table>\n",
       "</div>"
      ],
      "text/plain": [
       "            temp                         atemp                           hum  \\\n",
       "             max       min      mean       max       min      mean       max   \n",
       "season                                                                         \n",
       "Fall    0.861667  0.469167  0.706309  0.840896  0.242400  0.655898  0.939565   \n",
       "Spring  0.572500  0.059130  0.297748  0.548617  0.079070  0.296914  0.948261   \n",
       "Summer  0.808333  0.253043  0.544405  0.757579  0.250339  0.520307  0.922500   \n",
       "Winter  0.657500  0.220833  0.422906  0.607975  0.227913  0.415539  0.972500   \n",
       "\n",
       "                            \n",
       "             min      mean  \n",
       "season                      \n",
       "Fall    0.360000  0.633482  \n",
       "Spring  0.000000  0.582903  \n",
       "Summer  0.254167  0.626948  \n",
       "Winter  0.333478  0.668719  "
      ]
     },
     "execution_count": 30,
     "metadata": {},
     "output_type": "execute_result"
    }
   ],
   "source": [
    "day_df.groupby(by='season').agg({\n",
    "    'temp': ['max', 'min', 'mean'],\n",
    "    'atemp': ['max', 'min', 'mean'],\n",
    "    'hum': ['max', 'min', 'mean']\n",
    "})"
   ]
  },
  {
   "cell_type": "markdown",
   "metadata": {},
   "source": [
    "Berdasarkan hasil analisis di atas, beberapa kesimpulan dapat diambil:\n",
    "* Musim gugur (fall) memiliki rata-rata temperatur dan \"atemp\" (temperatur yang dirasakan) tertinggi, diikuti oleh musim panas (summer), musim dingin (winter), dan musim semi (spring).\n",
    "* Musim dingin (winter) memiliki rata-rata kelembaban udara (humidity) tertinggi, diikuti oleh musim gugur (fall), musim panas (summer), dan musim semi (spring)."
   ]
  },
  {
   "cell_type": "markdown",
   "metadata": {},
   "source": [
    "h. hubungan casual, registeredm dan count"
   ]
  },
  {
   "cell_type": "code",
   "execution_count": 31,
   "metadata": {},
   "outputs": [
    {
     "data": {
      "image/png": "[encoded data removed]",
      "text/plain": [
       "<Figure size 1000x600 with 2 Axes>"
      ]
     },
     "metadata": {},
     "output_type": "display_data"
    }
   ],
   "source": [
    "fig, ax = plt.subplots(figsize=(10,6))\n",
    "correlation_matrix = day_df.corr(numeric_only=True)\n",
    "mask = np.triu(np.ones_like(correlation_matrix, dtype=bool))\n",
    "\n",
    "sns.heatmap(\n",
    "    correlation_matrix,\n",
    "    annot=True,\n",
    "    mask=mask,\n",
    "    cmap=\"coolwarm\",\n",
    "    center=0,\n",
    "    fmt=\".2f\")\n",
    "plt.title(\"Correlation Heatmap\")\n",
    "plt.show()"
   ]
  },
  {
   "cell_type": "markdown",
   "metadata": {},
   "source": [
    "Berdasarkan hasil analisis di atas, dapat disimpulkan sebagai berikut:\n",
    "* Temp dan atemp memiliki korelasi yang sangat tinggi (0.99).\n",
    "* Hum memiliki korelasi yang lemah dengan temp dan atemp (0.13 dan 0.14).\n",
    "* Jumlah penyewa Casual memiliki korelasi yang cukup signifikan dengan temp dan atemp (0.54), serta memiliki korelasi sedikit negatif dengan hum (-0.08).\n",
    "* Jumlah penyewa Registered menunjukkan pola yang serupa dengan penyewa Casual, dan memiliki korelasi yang moderat dengan penyewa Casual (0.40).\n",
    "* Jumlah total penyewaan memiliki korelasi yang kuat dengan temp, atemp, penyewa Casual, dan penyewa Registered (0.63, 0.63, 0.67, dan 0.95), dan memiliki korelasi yang sedikit negatif dengan hum (-0.10)."
   ]
  },
  {
   "cell_type": "markdown",
   "metadata": {
    "id": "zsyZjqak8DC2"
   },
   "source": [
    "## Visualization & Explanatory Analysis"
   ]
  },
  {
   "cell_type": "markdown",
   "metadata": {
    "id": "HZxOiQ6n8DC2"
   },
   "source": [
    "### Pertanyaan 1: Bagaimana pola penggunaan sepeda sepanjang tahun, apakah tahun 2011 atau 2012 yang lebih dominan?"
   ]
  },
  {
   "cell_type": "code",
   "execution_count": 32,
   "metadata": {
    "id": "1swJUdAD8DC2"
   },
   "outputs": [
    {
     "name": "stderr",
     "output_type": "stream",
     "text": [
      "/var/folders/kf/f5xw1c7123j0hx9pvnskytlc0000gn/T/ipykernel_2909/340213885.py:5: FutureWarning: The default of observed=False is deprecated and will be changed to True in a future version of pandas. Pass observed=False to retain current behavior or observed=True to adopt the future default and silence this warning.\n",
      "  monthly_counts = day_df.groupby(by=[\"month\",\"year\"]).agg({\n"
     ]
    },
    {
     "data": {
      "image/png": "[encoded data removed]",
      "text/plain": [
       "<Figure size 640x480 with 1 Axes>"
      ]
     },
     "metadata": {},
     "output_type": "display_data"
    }
   ],
   "source": [
    "\n",
    "day_df['month'] = pd.Categorical(day_df['month'], categories=\n",
    "    ['Jan','Feb','Mar','Apr','May','Jun','Jul','Aug','Sep','Oct','Nov','Dec'],\n",
    "    ordered=True)\n",
    "\n",
    "monthly_counts = day_df.groupby(by=[\"month\",\"year\"]).agg({\n",
    "    \"count\": \"sum\"\n",
    "}).reset_index()\n",
    "\n",
    "sns.lineplot(\n",
    "    data=monthly_counts,\n",
    "    x=\"month\",\n",
    "    y=\"count\",\n",
    "    hue=\"year\",\n",
    "    palette=\"rocket\",\n",
    "    marker=\"o\")\n",
    "\n",
    "plt.title(\"Jumlah total sepeda yang disewakan berdasarkan Bulan dan tahun\")\n",
    "plt.xlabel(None)\n",
    "plt.ylabel(None)\n",
    "plt.legend(title=\"Tahun\", loc=\"upper right\")\n",
    "plt.tight_layout()\n",
    "plt.show()"
   ]
  },
  {
   "cell_type": "markdown",
   "metadata": {},
   "source": [
    "Berdasarkan visualisasi menggunakan lineplot di atas, dapat disimpulkan bahwa tahun 2012 secara konsisten mendominasi tahun 2011 (ditandai dengan angka 1) dari bulan Januari hingga Desember. Puncak penyewaan sepeda pada tahun 2012 terjadi pada bulan September, sementara bulan paling sepi adalah Januari. Pada tahun 2011, puncak penyewaan sepeda terjadi pada bulan Juni, dengan bulan Januari sebagai bulan paling sepi."
   ]
  },
  {
   "cell_type": "markdown",
   "metadata": {
    "id": "DgHI7CiU8DC2"
   },
   "source": [
    "### Pertanyaan 2: Apakah terdapat dampak musim terhadap jumlah penyewa sepeda, baik dari kalangan Casual maupun Registered?"
   ]
  },
  {
   "cell_type": "code",
   "execution_count": 33,
   "metadata": {
    "id": "Go0lCsvO8DC2"
   },
   "outputs": [
    {
     "name": "stderr",
     "output_type": "stream",
     "text": [
      "/var/folders/kf/f5xw1c7123j0hx9pvnskytlc0000gn/T/ipykernel_2909/3570916722.py:1: FutureWarning: The default of observed=False is deprecated and will be changed to True in a future version of pandas. Pass observed=False to retain current behavior or observed=True to adopt the future default and silence this warning.\n",
      "  seasonal_usage = day_df.groupby('season')[['registered', 'casual']].sum().reset_index()\n"
     ]
    },
    {
     "data": {
      "image/png": "[encoded data removed]",
      "text/plain": [
       "<Figure size 1000x600 with 1 Axes>"
      ]
     },
     "metadata": {},
     "output_type": "display_data"
    }
   ],
   "source": [
    "seasonal_usage = day_df.groupby('season')[['registered', 'casual']].sum().reset_index()\n",
    "\n",
    "plt.figure(figsize=(10, 6))\n",
    "\n",
    "# Membuat\n",
    "plt.bar(\n",
    "    seasonal_usage['season'],\n",
    "    seasonal_usage['registered'],\n",
    "    label='Registered',\n",
    "    color='tab:blue'\n",
    ")\n",
    "\n",
    "plt.bar(\n",
    "    seasonal_usage['season'],\n",
    "    seasonal_usage['casual'],\n",
    "    label='Casual',\n",
    "    color='tab:orange'\n",
    ")\n",
    "\n",
    "plt.xlabel(None)\n",
    "plt.ylabel(None)\n",
    "plt.title('Jumlah penyewaan sepeda berdasarkan musim')\n",
    "plt.legend()\n",
    "plt.show()"
   ]
  },
  {
   "cell_type": "markdown",
   "metadata": {},
   "source": [
    "Hasil analisis dengan menggunakan barplot menunjukkan bahwa musim gugur (Fall) merupakan musim yang paling disukai oleh para pengguna sepeda, baik dari kalangan Casual maupun Registered, diikuti oleh musim panas (Summer), musim dingin (Winter), dan musim semi (Spring)."
   ]
  },
  {
   "cell_type": "markdown",
   "metadata": {},
   "source": [
    "### Pertanyaan 3: Apakah cuaca memiliki dampak terhadap jumlah pengguna sepeda?"
   ]
  },
  {
   "cell_type": "code",
   "execution_count": 34,
   "metadata": {},
   "outputs": [
    {
     "data": {
      "image/png": "[encoded data removed]",
      "text/plain": [
       "<Figure size 1000x600 with 1 Axes>"
      ]
     },
     "metadata": {},
     "output_type": "display_data"
    }
   ],
   "source": [
    "plt.figure(figsize=(10,6))\n",
    "sns.barplot(\n",
    "    x='weather_cond',\n",
    "    y='count',\n",
    "    data=day_df)\n",
    "\n",
    "plt.title('Jumlah Pengguna Sepeda berdasarkan Kondisi Cuaca')\n",
    "plt.xlabel('Kondisi cuaca')\n",
    "plt.ylabel('Jumlah pengguna sepeda')\n",
    "plt.show()"
   ]
  },
  {
   "cell_type": "markdown",
   "metadata": {},
   "source": [
    "Berdasarkan visualisasi data menggunakan boxplot, dapat disimpulkan bahwa terdapat korelasi yang jelas antara kondisi cuaca dan jumlah penyewa sepeda. Cuaca yang cerah atau setengah mendung merupakan kondisi yang paling diminati, diikuti oleh cuaca berkabut atau mendung, sedangkan cuaca dengan sedikit salju atau hujan menjadi yang paling tidak diminati."
   ]
  },
  {
   "cell_type": "markdown",
   "metadata": {},
   "source": [
    "### Pertanyaan 4: Bagaimana kondisi ketika sepeda digunakan pada workingday, holiday, dan weekday?"
   ]
  },
  {
   "cell_type": "code",
   "execution_count": 35,
   "metadata": {},
   "outputs": [
    {
     "data": {
      "image/png": "[encoded data removed]",
      "text/plain": [
       "<Figure size 1500x1000 with 3 Axes>"
      ]
     },
     "metadata": {},
     "output_type": "display_data"
    }
   ],
   "source": [
    "fig, axes = plt.subplots(nrows=3, ncols=1, figsize=(15,10))\n",
    "\n",
    "# Workingday\n",
    "sns.barplot(\n",
    "    x='workingday',\n",
    "    y='count',\n",
    "    data=day_df,\n",
    "    ax=axes[0])\n",
    "axes[0].set_title('Jumlah Pengguna Sepeda berdasarkan Hari Kerja')\n",
    "axes[0].set_xlabel('Hari Kerja')\n",
    "axes[0].set_ylabel('Jumlah Pengguna Sepeda')\n",
    "\n",
    "# Holiday\n",
    "sns.barplot(\n",
    "  x='holiday',\n",
    "  y='count',\n",
    "  data=day_df,\n",
    "  ax=axes[1])\n",
    "axes[1].set_title('Jumlah Pengguna Sepeda berdasarkan Hari Libur')\n",
    "axes[1].set_xlabel('Hari Libur')\n",
    "axes[1].set_ylabel('Jumlah Pengguna Sepeda')\n",
    "\n",
    "# Weekday\n",
    "sns.barplot(\n",
    "  x='weekday',\n",
    "  y='count',\n",
    "  data=day_df,\n",
    "  ax=axes[2])\n",
    "axes[2].set_title('Jumlah Pengguna Sepeda berdasarkan Hari dalam Seminggu')\n",
    "axes[2].set_xlabel('Hari dalam Seminggu')\n",
    "axes[2].set_ylabel('Jumlah Pengguna Sepeda')\n",
    "\n",
    "plt.tight_layout()\n",
    "plt.show()"
   ]
  },
  {
   "cell_type": "markdown",
   "metadata": {},
   "source": [
    "Berdasarkan visualisasi data menggunakan barplot, dapat disimpulkan hal-hal berikut:\n",
    "\n",
    "* Jumlah penyewa sepeda lebih tinggi selama hari kerja (Senin-Jumat) dibandingkan dengan akhir pekan (Sabtu dan Minggu), dengan 0 mewakili\n",
    "akhir pekan dan 1 mewakili hari kerja.\n",
    "* Jumlah penyewa sepeda jauh lebih besar selama hari biasa (non-hari libur) daripada hari libur (hari nasional).\n",
    "* Hari Jumat menunjukkan jumlah penyewa sepeda tertinggi, sedangkan Hari Minggu memiliki jumlah penyewa sepeda yang paling sedikit."
   ]
  },
  {
   "cell_type": "markdown",
   "metadata": {},
   "source": [
    "### Pertanyaan 5: Bagaimana variabel seperti temp dan atemp serta humidity bisa berpengaruh terhadap jumlah total pengguna sepeda Casual ataupun Registered)"
   ]
  },
  {
   "cell_type": "code",
   "execution_count": 36,
   "metadata": {},
   "outputs": [
    {
     "data": {
      "text/plain": [
       "Text(0.5, 1.0, 'Humidity vs Count')"
      ]
     },
     "execution_count": 36,
     "metadata": {},
     "output_type": "execute_result"
    },
    {
     "data": {
      "image/png": "[encoded data removed]",
      "text/plain": [
       "<Figure size 1400x600 with 3 Axes>"
      ]
     },
     "metadata": {},
     "output_type": "display_data"
    }
   ],
   "source": [
    "plt.figure(figsize=(14, 6))\n",
    "\n",
    "# 'temp' vs 'count'\n",
    "plt.subplot(1, 3, 1)\n",
    "sns.scatterplot(\n",
    "    x='temp',\n",
    "    y='count',\n",
    "    data=day_df,\n",
    "    alpha=0.5\n",
    ")\n",
    "plt.title('Temperature vs Count')\n",
    "\n",
    "# 'atemp' vs 'count'\n",
    "plt.subplot(1, 3, 2)\n",
    "sns.scatterplot(\n",
    "    x='atemp',\n",
    "    y='count',\n",
    "    data=day_df,\n",
    "    alpha=0.5\n",
    ")\n",
    "plt.title('Atemp vs Count')\n",
    "\n",
    "# 'hum' vs 'count'\n",
    "plt.subplot(1, 3, 3)\n",
    "sns.scatterplot(\n",
    "    x='hum',\n",
    "    y='count',\n",
    "    data=day_df,\n",
    "    alpha=0.5\n",
    ")\n",
    "plt.title('Humidity vs Count')"
   ]
  },
  {
   "cell_type": "markdown",
   "metadata": {},
   "source": [
    "Berdasarkan analisis menggunakan scatter plot, dapat disimpulkan hal-hal berikut:\n",
    "\n",
    "* Terdapat hubungan positif antara suhu aktual (temp) dan jumlah total pengguna sepeda.\n",
    "* Hubungan antara suhu yang dirasakan (atemp) dan jumlah total pengguna sepeda juga menunjukkan korelasi yang positif.\n",
    "* Meskipun hubungan antara kelembaban udara (hum) dan jumlah total pengguna sepeda cenderung sedikit negatif, namun tidak terlalu signifikan karena kecenderungan data yang tidak terlalu jelas ke arah kiri.\n",
    "  \n",
    "Dengan demikian, dapat disimpulkan bahwa kenaikan suhu (baik temp maupun atemp) cenderung diikuti dengan peningkatan jumlah pengguna sepeda. Pengaruh kelembaban udara (hum) terhadap jumlah pengguna sepeda tampaknya relatif kecil, meskipun cenderung dapat mengurangi jumlah pengguna sepeda."
   ]
  },
  {
   "cell_type": "markdown",
   "metadata": {
    "id": "_WeHlCeX8DC2"
   },
   "source": [
    "## Conclusion"
   ]
  },
  {
   "cell_type": "markdown",
   "metadata": {
    "id": "ZTcyR48Y8DC2"
   },
   "source": [
    "- Conclution pertanyaan 1: Kesimpulan dari analisis ini adalah bahwa terdapat perbedaan dalam pola penggunaan sepeda antara tahun 2011 dan 2012. Puncak penggunaan sepeda pada tahun 2011 terjadi pada bulan Juni, sementara pada tahun 2012 terjadi pada bulan September. Namun, kedua tahun memiliki dasar penggunaan sepeda yang sama pada bulan Januari. Secara keseluruhan, jumlah total sepeda yang disewakan pada tahun 2012 jauh lebih tinggi daripada tahun 2011.\n",
    "  \n",
    "- Conclution pertanyaan 2: Kesimpulan dari visualisasi menunjukkan hasil yang cukup mengejutkan dimana musim semi (Spring) tidak berada pada posisi terakhir seperti yang diperkirakan, melainkan musim dingin (Winter) yang berada di posisi terakhir. Kemungkinan ini dipengaruhi oleh beberapa faktor seperti kondisi cuaca, suhu udara, hari kerja, hari libur, dan faktor lainnya. Sementara itu, musim gugur (Fall) menduduki peringkat pertama dengan jumlah penyewaan sepeda lebih dari 800.000.\n",
    "\n",
    "- Conclution pertanyaan 3: Kesimpulan dari analisis ini menunjukkan adanya hubungan yang jelas antara kondisi cuaca dan jumlah penyewaan sepeda. Terlihat bahwa para penyewa sepeda cenderung menyukai cuaca yang cerah atau sedikit mendung, dengan nilai kuartil ketiga (Q3) di atas 6000, kuartil pertama (Q1) di bawah 4000, dan median hampir mencapai 5000. Kedua, cuaca berkabut atau mendung menduduki posisi kedua, dengan Q3 di atas 5000, Q1 di bawah 3000, dan median di atas 4000. Terakhir, cuaca saat sedikit bersalju atau hujan memiliki jumlah penyewaan yang lebih rendah, dengan Q3 di atas 2000, Q1 di bawah 1000, dan median di atas 1000. Tidak ada data yang tersedia untuk cuaca saat badai besar, karena tentunya tidak mungkin untuk bersepeda dalam kondisi cuaca ekstrem seperti itu.\n",
    "\n",
    "- Conclution pertanyaan 4: Kesimpulan dari analisis ini menunjukkan tiga aspek yang dapat diamati dari visualisasi. Pertama, jumlah pengguna sepeda berdasarkan hari kerja (workingday) lebih tinggi daripada jumlah pengguna sepeda pada hari libur (non-workingday), meskipun perbedaannya tidak terlalu signifikan, namun tetap ada perbedaan yang jelas dengan keduanya memiliki jumlah pengguna di atas 4000. Kedua, berdasarkan hari libur (holiday), jumlah pengguna sepeda pada hari biasa (non-holiday) lebih tinggi secara signifikan daripada pada hari libur (holiday). Hal ini menunjukkan kemungkinan bahwa pengguna lebih memilih untuk menyewa sepeda saat hari-hari biasa. Terakhir, berdasarkan hari dalam seminggu (weekday), Jumat (Fri) menempati posisi pertama dengan rata-rata 4690.288462, sedangkan Minggu (Sun) menempati posisi terakhir dengan rata-rata 4228.828571.\n",
    "\n",
    "- Dari ketiga visualisasi yang telah dipresentasikan, dapat ditarik kesimpulan bahwa suhu aktual (temp) dan suhu yang dirasakan (atemp) memiliki korelasi positif yang kuat dengan jumlah total penyewaan sepeda (count). Ini berarti ketika suhu meningkat, baik temp maupun atemp, jumlah pengguna sepeda cenderung meningkat juga. Sebaliknya, kelembaban udara (humidity) memiliki korelasi negatif yang sangat minimal dengan jumlah penyewaan sepeda (count), meskipun tidak signifikan. Namun demikian, peningkatan kelembaban udara tetap dapat sedikit mengurangi jumlah pengguna sepeda."
   ]
  },
  {
   "cell_type": "code",
   "execution_count": null,
   "metadata": {},
   "outputs": [],
   "source": []
  }
 ],
 "metadata": {
  "colab": {
   "provenance": []
  },
  "kernelspec": {
   "display_name": "Python 3 (ipykernel)",
   "language": "python",
   "name": "python3"
  },
  "language_info": {
   "codemirror_mode": {
    "name": "ipython",
    "version": 3
   },
   "file_extension": ".py",
   "mimetype": "text/x-python",
   "name": "python",
   "nbconvert_exporter": "python",
   "pygments_lexer": "ipython3",
   "version": "3.11.7"
  },
  "vscode": {
   "interpreter": {
    "hash": "972b3bf27e332e87b5379f2791f6ef9dfc79c71018c370b0d7423235e20fe4d7"
   }
  }
 },
 "nbformat": 4,
 "nbformat_minor": 4
}
